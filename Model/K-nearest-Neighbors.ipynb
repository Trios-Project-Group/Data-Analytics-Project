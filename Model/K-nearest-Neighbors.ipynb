{
 "cells": [
  {
   "cell_type": "markdown",
   "metadata": {},
   "source": [
    "# K -nearest Neighs to predict/decide if a course is paid or  lent out for free ."
   ]
  },
  {
   "cell_type": "markdown",
   "metadata": {},
   "source": [
    "Based on features of a course such as num of published lectures and num of practice tests for a course , the course provider can make a decision based on the vote made with help of its neighbors with similar traits."
   ]
  },
  {
   "cell_type": "code",
   "execution_count": 1,
   "metadata": {},
   "outputs": [],
   "source": [
    "import numpy as np\n",
    "import pandas as pd\n",
    "import matplotlib.pyplot as plt\n",
    "import seaborn as sns\n",
    "import warnings\n",
    "from scipy import stats\n",
    "warnings.filterwarnings('ignore')\n",
    "\n",
    "#Required Modules"
   ]
  },
  {
   "cell_type": "markdown",
   "metadata": {},
   "source": [
    "<font color='blue'>\n",
    "We know that KNN is computationally expensive because of distance calculations  , hence we limit ourselves with a sample obtained from the population data . For better simulation of results , we'll sample data in such a way that target classes are balanced\n",
    "</font>"
   ]
  },
  {
   "cell_type": "code",
   "execution_count": 2,
   "metadata": {},
   "outputs": [],
   "source": [
    "population = pd.read_csv('Integrated_CS_IT_DEV.csv')"
   ]
  },
  {
   "cell_type": "code",
   "execution_count": 3,
   "metadata": {},
   "outputs": [
    {
     "data": {
      "text/plain": [
       "Index(['Unnamed: 0', 'id', 'title', 'url', 'is_paid', 'num_subscribers',\n",
       "       'avg_rating', 'avg_rating_recent', 'rating', 'num_reviews',\n",
       "       'num_published_lectures', 'num_published_practice_tests', 'created',\n",
       "       'published_time', 'discount_price__amount', 'price_detail__amount',\n",
       "       'year_created'],\n",
       "      dtype='object')"
      ]
     },
     "execution_count": 3,
     "metadata": {},
     "output_type": "execute_result"
    }
   ],
   "source": [
    "population.columns"
   ]
  },
  {
   "cell_type": "code",
   "execution_count": 4,
   "metadata": {},
   "outputs": [],
   "source": [
    "Un_paid = population[population['is_paid']==False].sample(100)\n",
    "#We'll extract 100 random sample for target class of False"
   ]
  },
  {
   "cell_type": "code",
   "execution_count": 5,
   "metadata": {},
   "outputs": [],
   "source": [
    "Paid = population[population['is_paid']==True].sample(100)\n",
    "#100 samples of Paid=True record"
   ]
  },
  {
   "cell_type": "code",
   "execution_count": 6,
   "metadata": {},
   "outputs": [
    {
     "data": {
      "text/html": [
       "<div>\n",
       "<style scoped>\n",
       "    .dataframe tbody tr th:only-of-type {\n",
       "        vertical-align: middle;\n",
       "    }\n",
       "\n",
       "    .dataframe tbody tr th {\n",
       "        vertical-align: top;\n",
       "    }\n",
       "\n",
       "    .dataframe thead th {\n",
       "        text-align: right;\n",
       "    }\n",
       "</style>\n",
       "<table border=\"1\" class=\"dataframe\">\n",
       "  <thead>\n",
       "    <tr style=\"text-align: right;\">\n",
       "      <th></th>\n",
       "      <th>Unnamed: 0</th>\n",
       "      <th>id</th>\n",
       "      <th>title</th>\n",
       "      <th>url</th>\n",
       "      <th>is_paid</th>\n",
       "      <th>num_subscribers</th>\n",
       "      <th>avg_rating</th>\n",
       "      <th>avg_rating_recent</th>\n",
       "      <th>rating</th>\n",
       "      <th>num_reviews</th>\n",
       "      <th>num_published_lectures</th>\n",
       "      <th>num_published_practice_tests</th>\n",
       "      <th>created</th>\n",
       "      <th>published_time</th>\n",
       "      <th>discount_price__amount</th>\n",
       "      <th>price_detail__amount</th>\n",
       "      <th>year_created</th>\n",
       "    </tr>\n",
       "  </thead>\n",
       "  <tbody>\n",
       "    <tr>\n",
       "      <th>14890</th>\n",
       "      <td>14890</td>\n",
       "      <td>944792</td>\n",
       "      <td>The Business Bootstrap Guide</td>\n",
       "      <td>/course/the-bootstrap-guide/</td>\n",
       "      <td>True</td>\n",
       "      <td>11150</td>\n",
       "      <td>3.80000</td>\n",
       "      <td>3.84653</td>\n",
       "      <td>3.84653</td>\n",
       "      <td>29</td>\n",
       "      <td>45</td>\n",
       "      <td>0</td>\n",
       "      <td>2016-08-29T23:00:54Z</td>\n",
       "      <td>2016-09-01T22:46:46Z</td>\n",
       "      <td>455.0</td>\n",
       "      <td>1280.0</td>\n",
       "      <td>2016</td>\n",
       "    </tr>\n",
       "    <tr>\n",
       "      <th>26977</th>\n",
       "      <td>26977</td>\n",
       "      <td>906396</td>\n",
       "      <td>ISTQB Foundation Level Certification Exam Prep...</td>\n",
       "      <td>/course/istqb-foundation-level-certification/</td>\n",
       "      <td>True</td>\n",
       "      <td>341</td>\n",
       "      <td>3.15000</td>\n",
       "      <td>2.92514</td>\n",
       "      <td>2.92514</td>\n",
       "      <td>56</td>\n",
       "      <td>170</td>\n",
       "      <td>0</td>\n",
       "      <td>2016-07-16T08:35:41Z</td>\n",
       "      <td>2017-03-15T17:45:35Z</td>\n",
       "      <td>455.0</td>\n",
       "      <td>8640.0</td>\n",
       "      <td>2016</td>\n",
       "    </tr>\n",
       "    <tr>\n",
       "      <th>27938</th>\n",
       "      <td>27938</td>\n",
       "      <td>2142482</td>\n",
       "      <td>Learn NetConf ,Yang ,SDN Opendaylight Netconf ...</td>\n",
       "      <td>/course/learn-netconf-yang-sdn-opendaylight-wi...</td>\n",
       "      <td>True</td>\n",
       "      <td>177</td>\n",
       "      <td>4.00000</td>\n",
       "      <td>4.14269</td>\n",
       "      <td>4.14269</td>\n",
       "      <td>34</td>\n",
       "      <td>16</td>\n",
       "      <td>0</td>\n",
       "      <td>2019-01-10T15:37:14Z</td>\n",
       "      <td>2019-06-19T18:42:03Z</td>\n",
       "      <td>455.0</td>\n",
       "      <td>1280.0</td>\n",
       "      <td>2019</td>\n",
       "    </tr>\n",
       "    <tr>\n",
       "      <th>23703</th>\n",
       "      <td>23703</td>\n",
       "      <td>1286120</td>\n",
       "      <td>Hive to ADVANCE Hive (Real time usage) :Hadoop...</td>\n",
       "      <td>/course/hadoop-querying-tool-hive-to-advance-h...</td>\n",
       "      <td>True</td>\n",
       "      <td>12100</td>\n",
       "      <td>4.38846</td>\n",
       "      <td>4.33554</td>\n",
       "      <td>4.33554</td>\n",
       "      <td>2344</td>\n",
       "      <td>77</td>\n",
       "      <td>0</td>\n",
       "      <td>2017-07-10T09:06:03Z</td>\n",
       "      <td>2017-07-27T00:19:03Z</td>\n",
       "      <td>455.0</td>\n",
       "      <td>3200.0</td>\n",
       "      <td>2017</td>\n",
       "    </tr>\n",
       "  </tbody>\n",
       "</table>\n",
       "</div>"
      ],
      "text/plain": [
       "       Unnamed: 0       id                                              title  \\\n",
       "14890       14890   944792                       The Business Bootstrap Guide   \n",
       "26977       26977   906396  ISTQB Foundation Level Certification Exam Prep...   \n",
       "27938       27938  2142482  Learn NetConf ,Yang ,SDN Opendaylight Netconf ...   \n",
       "23703       23703  1286120  Hive to ADVANCE Hive (Real time usage) :Hadoop...   \n",
       "\n",
       "                                                     url  is_paid  \\\n",
       "14890                       /course/the-bootstrap-guide/     True   \n",
       "26977      /course/istqb-foundation-level-certification/     True   \n",
       "27938  /course/learn-netconf-yang-sdn-opendaylight-wi...     True   \n",
       "23703  /course/hadoop-querying-tool-hive-to-advance-h...     True   \n",
       "\n",
       "       num_subscribers  avg_rating  avg_rating_recent   rating  num_reviews  \\\n",
       "14890            11150     3.80000            3.84653  3.84653           29   \n",
       "26977              341     3.15000            2.92514  2.92514           56   \n",
       "27938              177     4.00000            4.14269  4.14269           34   \n",
       "23703            12100     4.38846            4.33554  4.33554         2344   \n",
       "\n",
       "       num_published_lectures  num_published_practice_tests  \\\n",
       "14890                      45                             0   \n",
       "26977                     170                             0   \n",
       "27938                      16                             0   \n",
       "23703                      77                             0   \n",
       "\n",
       "                    created        published_time  discount_price__amount  \\\n",
       "14890  2016-08-29T23:00:54Z  2016-09-01T22:46:46Z                   455.0   \n",
       "26977  2016-07-16T08:35:41Z  2017-03-15T17:45:35Z                   455.0   \n",
       "27938  2019-01-10T15:37:14Z  2019-06-19T18:42:03Z                   455.0   \n",
       "23703  2017-07-10T09:06:03Z  2017-07-27T00:19:03Z                   455.0   \n",
       "\n",
       "       price_detail__amount  year_created  \n",
       "14890                1280.0          2016  \n",
       "26977                8640.0          2016  \n",
       "27938                1280.0          2019  \n",
       "23703                3200.0          2017  "
      ]
     },
     "execution_count": 6,
     "metadata": {},
     "output_type": "execute_result"
    }
   ],
   "source": [
    "#Now we'll append the dataframes to form a new input_dataset\n",
    "Input_data = Paid.append(Un_paid)\n",
    "Input_data.head(4)"
   ]
  },
  {
   "cell_type": "code",
   "execution_count": 7,
   "metadata": {},
   "outputs": [],
   "source": [
    "target = Input_data['is_paid']   #dependent\n",
    "features = Input_data[['num_published_lectures','num_published_practice_tests']] #independent"
   ]
  },
  {
   "cell_type": "markdown",
   "metadata": {},
   "source": [
    "# Model Building Phase"
   ]
  },
  {
   "cell_type": "code",
   "execution_count": 8,
   "metadata": {},
   "outputs": [],
   "source": [
    "from sklearn.model_selection import train_test_split  #train-test-split\n",
    "x_train, x_test, y_train, y_test= train_test_split(features, target , test_size= 0.30, random_state=0)  "
   ]
  },
  {
   "cell_type": "code",
   "execution_count": 9,
   "metadata": {},
   "outputs": [],
   "source": [
    "#feature scaling is not necessary , as the features are at scale , no huge difference ."
   ]
  },
  {
   "cell_type": "markdown",
   "metadata": {},
   "source": [
    "<font color='blue'>THE KNN MODEL SETUP</font>"
   ]
  },
  {
   "cell_type": "code",
   "execution_count": 10,
   "metadata": {},
   "outputs": [
    {
     "data": {
      "text/plain": [
       "KNeighborsClassifier()"
      ]
     },
     "execution_count": 10,
     "metadata": {},
     "output_type": "execute_result"
    }
   ],
   "source": [
    "from sklearn.neighbors import KNeighborsClassifier  \n",
    "\n",
    "KNN= KNeighborsClassifier(n_neighbors=5, metric='minkowski', p=2 ) \n",
    "\n",
    "#Neighbors = 5 (we'll take opinion from the top 5)\n",
    "#Default metric is minkowski , our P -norm\n",
    "#WE are using p=2 , which implies that is a normal eucliden distance\n",
    "\n",
    "KNN.fit(x_train, y_train) \n",
    "#model is trained\n",
    "\n",
    "#But KNN is a lazy learner though!"
   ]
  },
  {
   "cell_type": "markdown",
   "metadata": {},
   "source": [
    "<font color='blue'>\n",
    "    \n",
    "Our Hyper-parameters here are\n",
    "\n",
    "K in K-nearest-neighs = 5\n",
    "\n",
    "distance_measure = Euclidean\n",
    "\n",
    "</font>"
   ]
  },
  {
   "cell_type": "markdown",
   "metadata": {},
   "source": [
    "<font color='blue'>We shall look into the predictions thus made</font>"
   ]
  },
  {
   "cell_type": "code",
   "execution_count": 11,
   "metadata": {},
   "outputs": [],
   "source": [
    "class_predictions = KNN.predict(x_test)"
   ]
  },
  {
   "cell_type": "code",
   "execution_count": 12,
   "metadata": {},
   "outputs": [
    {
     "data": {
      "text/plain": [
       "array([False,  True, False, False, False, False,  True, False,  True,\n",
       "       False,  True, False,  True, False,  True, False, False, False,\n",
       "        True, False, False, False,  True, False, False, False, False,\n",
       "       False, False,  True,  True,  True, False, False, False, False,\n",
       "       False, False,  True, False, False,  True, False, False, False,\n",
       "        True, False,  True, False, False,  True, False, False, False,\n",
       "       False,  True, False, False, False, False])"
      ]
     },
     "execution_count": 12,
     "metadata": {},
     "output_type": "execute_result"
    }
   ],
   "source": [
    "class_predictions"
   ]
  },
  {
   "cell_type": "markdown",
   "metadata": {},
   "source": [
    "<font color='blue'>\n",
    "Well as of now \n",
    "\n",
    "* Our model is fit/trained\n",
    "\n",
    "* predictions have been made as well!\n",
    "\n",
    "* Let us visualize the predictions using COnfusion matrix \n",
    "</font>"
   ]
  },
  {
   "cell_type": "code",
   "execution_count": 13,
   "metadata": {},
   "outputs": [
    {
     "data": {
      "text/plain": [
       "array([[29,  2],\n",
       "       [14, 15]], dtype=int64)"
      ]
     },
     "execution_count": 13,
     "metadata": {},
     "output_type": "execute_result"
    }
   ],
   "source": [
    "from sklearn.metrics import confusion_matrix  \n",
    "\n",
    "matrix = confusion_matrix(y_test, class_predictions)\n",
    "\n",
    "matrix"
   ]
  },
  {
   "cell_type": "code",
   "execution_count": 14,
   "metadata": {},
   "outputs": [
    {
     "data": {
      "text/plain": [
       "<matplotlib.axes._subplots.AxesSubplot at 0x2415a3d3490>"
      ]
     },
     "execution_count": 14,
     "metadata": {},
     "output_type": "execute_result"
    },
    {
     "data": {
      "image/png": "[encoded data removed]",
      "text/plain": [
       "<Figure size 432x288 with 2 Axes>"
      ]
     },
     "metadata": {
      "needs_background": "light"
     },
     "output_type": "display_data"
    }
   ],
   "source": [
    "sns.heatmap(matrix,annot=True,cmap='coolwarm')"
   ]
  },
  {
   "cell_type": "markdown",
   "metadata": {},
   "source": [
    "<font color='blue'>\n",
    "\n",
    "That's how the Confusion Matrix looks like\n",
    "\n",
    "Based on the Confusion Matrix , we can infer few key points\n",
    "\n",
    "* our model managed to get 48 labels right (i.e TP and TN)\n",
    "* model has misclassfied 18 samples (i.e FP and FN)\n",
    "\n",
    "\n",
    "Let us compute the Accuracy of our model.\n",
    "    \n",
    "</font>"
   ]
  },
  {
   "cell_type": "code",
   "execution_count": 15,
   "metadata": {},
   "outputs": [
    {
     "name": "stdout",
     "output_type": "stream",
     "text": [
      "Accuracy: 0.7333333333333333\n"
     ]
    }
   ],
   "source": [
    "from sklearn import metrics\n",
    "\n",
    "# Model Accuracy , it is ok to use accuracy in this case because we have defined an equal split of target variables\n",
    "\n",
    "print(\"Accuracy:\",metrics.accuracy_score(y_test, class_predictions))"
   ]
  },
  {
   "cell_type": "markdown",
   "metadata": {},
   "source": [
    "<font color='blue'>So That's our accuracy for K=5 neighs and Euclidean distance .</font>\n",
    "\n",
    "\n"
   ]
  },
  {
   "cell_type": "markdown",
   "metadata": {},
   "source": [
    "<font color='blue'>\n",
    "What does the accuracy imply ? \n",
    "\n",
    "Whenever the course instructor wants to decide to make is course paid or un_paid with our KNN model , he'll end up making correct decisions accuracy% of the times.\n",
    "</font>"
   ]
  },
  {
   "cell_type": "markdown",
   "metadata": {},
   "source": [
    "<font color='dark-green'>Can we do better ??\n",
    "\n",
    "Let us Tweak the value of K in KNN using ELbow Method and we'll change our distance metric</font>"
   ]
  },
  {
   "cell_type": "markdown",
   "metadata": {},
   "source": [
    "# Elbow method to find optimal K "
   ]
  },
  {
   "cell_type": "code",
   "execution_count": 16,
   "metadata": {},
   "outputs": [],
   "source": [
    "error_vals = []\n",
    "\n",
    "for i in range(1,11):\n",
    " \n",
    "    model = KNeighborsClassifier(n_neighbors=i,metric='minkowski', p=2)\n",
    "    \n",
    "    model.fit(x_train,y_train)\n",
    " \n",
    "    pred_i = model.predict(x_test)\n",
    "     \n",
    "    error_vals.append(np.mean(pred_i != y_test))"
   ]
  },
  {
   "cell_type": "markdown",
   "metadata": {},
   "source": [
    "<font color='dark-green'> We shall visualize how the error varies with various k values </font>"
   ]
  },
  {
   "cell_type": "code",
   "execution_count": 17,
   "metadata": {},
   "outputs": [
    {
     "data": {
      "text/plain": [
       "<matplotlib.axes._subplots.AxesSubplot at 0x2415ac33e50>"
      ]
     },
     "execution_count": 17,
     "metadata": {},
     "output_type": "execute_result"
    },
    {
     "data": {
      "image/png": "[encoded data removed]",
      "text/plain": [
       "<Figure size 576x576 with 1 Axes>"
      ]
     },
     "metadata": {
      "needs_background": "light"
     },
     "output_type": "display_data"
    }
   ],
   "source": [
    "plt.figure(figsize=(8,8))\n",
    "sns.lineplot(x=range(1,11) , y= error_vals , markers=True , dashes=True )"
   ]
  },
  {
   "cell_type": "markdown",
   "metadata": {},
   "source": [
    "From the above graph , we can conclusively say that No.of.neighbours = 9 at elbow , this may vary for different runs , because the dataset used for KNN here is small and randomness is  introduced via train_test_splits"
   ]
  },
  {
   "cell_type": "markdown",
   "metadata": {},
   "source": [
    "Concluding points :\n",
    "    \n",
    "    * we saw how the values of num_published_lectures and num_practice_tests for a given course can help the instructor to     decide the mode in which a course must be available. \n",
    "    \n",
    "    * KNN binary-classifier has been used to model the above problem , with confusion matrices and accuracy used for metrics visualization\n",
    "    \n",
    "    *Elbow method is used to find the best value of KNN ."
   ]
  }
 ],
 "metadata": {
  "kernelspec": {
   "display_name": "Python 3",
   "language": "python",
   "name": "python3"
  },
  "language_info": {
   "codemirror_mode": {
    "name": "ipython",
    "version": 3
   },
   "file_extension": ".py",
   "mimetype": "text/x-python",
   "name": "python",
   "nbconvert_exporter": "python",
   "pygments_lexer": "ipython3",
   "version": "3.8.3"
  }
 },
 "nbformat": 4,
 "nbformat_minor": 4
}
