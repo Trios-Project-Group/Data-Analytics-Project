{
 "cells": [
  {
   "cell_type": "markdown",
   "metadata": {},
   "source": [
    "# K -nearest Neighs to predict/decide if a course is paid or  lent out for free ."
   ]
  },
  {
   "cell_type": "markdown",
   "metadata": {},
   "source": [
    "Based on features of a course such as num of published lectures and num of practice tests for a course , the course provider can make a decision based on the vote made with help of its neighbors with similar traits."
   ]
  },
  {
   "cell_type": "code",
   "execution_count": 1,
   "metadata": {},
   "outputs": [],
   "source": [
    "import numpy as np\n",
    "import pandas as pd\n",
    "import matplotlib.pyplot as plt\n",
    "import seaborn as sns\n",
    "import warnings\n",
    "from scipy import stats\n",
    "warnings.filterwarnings('ignore')\n",
    "\n",
    "#Required Modules"
   ]
  },
  {
   "cell_type": "markdown",
   "metadata": {},
   "source": [
    "<font color='blue'>\n",
    "We know that KNN is computationally expensive because of distance calculations  , hence we limit ourselves with a sample obtained from the population data . For better simulation of results , we'll sample data in such a way that target classes are balanced\n",
    "</font>"
   ]
  },
  {
   "cell_type": "code",
   "execution_count": 2,
   "metadata": {},
   "outputs": [],
   "source": [
    "population = pd.read_csv('Development_IT.csv')"
   ]
  },
  {
   "cell_type": "code",
   "execution_count": 3,
   "metadata": {},
   "outputs": [
    {
     "data": {
      "text/plain": [
       "Index(['id', 'title', 'url', 'is_paid', 'num_subscribers', 'avg_rating',\n",
       "       'rating', 'num_reviews', 'num_published_lectures',\n",
       "       'num_published_practice_tests', 'created', 'published_time',\n",
       "       'discount_price__amount', 'price_detail__amount'],\n",
       "      dtype='object')"
      ]
     },
     "execution_count": 3,
     "metadata": {},
     "output_type": "execute_result"
    }
   ],
   "source": [
    "population.columns"
   ]
  },
  {
   "cell_type": "code",
   "execution_count": 4,
   "metadata": {},
   "outputs": [],
   "source": [
    "Un_paid = population[population['is_paid']==False].sample(100)\n",
    "#We'll extract 100 random sample for target class of False"
   ]
  },
  {
   "cell_type": "code",
   "execution_count": 5,
   "metadata": {},
   "outputs": [],
   "source": [
    "Paid = population[population['is_paid']==True].sample(100)\n",
    "#100 samples of Paid=True record"
   ]
  },
  {
   "cell_type": "code",
   "execution_count": 6,
   "metadata": {},
   "outputs": [
    {
     "data": {
      "text/html": [
       "<div>\n",
       "<style scoped>\n",
       "    .dataframe tbody tr th:only-of-type {\n",
       "        vertical-align: middle;\n",
       "    }\n",
       "\n",
       "    .dataframe tbody tr th {\n",
       "        vertical-align: top;\n",
       "    }\n",
       "\n",
       "    .dataframe thead th {\n",
       "        text-align: right;\n",
       "    }\n",
       "</style>\n",
       "<table border=\"1\" class=\"dataframe\">\n",
       "  <thead>\n",
       "    <tr style=\"text-align: right;\">\n",
       "      <th></th>\n",
       "      <th>id</th>\n",
       "      <th>title</th>\n",
       "      <th>url</th>\n",
       "      <th>is_paid</th>\n",
       "      <th>num_subscribers</th>\n",
       "      <th>avg_rating</th>\n",
       "      <th>rating</th>\n",
       "      <th>num_reviews</th>\n",
       "      <th>num_published_lectures</th>\n",
       "      <th>num_published_practice_tests</th>\n",
       "      <th>created</th>\n",
       "      <th>published_time</th>\n",
       "      <th>discount_price__amount</th>\n",
       "      <th>price_detail__amount</th>\n",
       "    </tr>\n",
       "  </thead>\n",
       "  <tbody>\n",
       "    <tr>\n",
       "      <th>13290</th>\n",
       "      <td>1391700</td>\n",
       "      <td>Predictive Analytics for Business - with Case ...</td>\n",
       "      <td>/course/predictive-analytics-for-business-with...</td>\n",
       "      <td>True</td>\n",
       "      <td>218</td>\n",
       "      <td>3.95000</td>\n",
       "      <td>3.96138</td>\n",
       "      <td>60</td>\n",
       "      <td>19</td>\n",
       "      <td>0</td>\n",
       "      <td>2017-10-12T14:36:57Z</td>\n",
       "      <td>2017-11-07T17:21:58Z</td>\n",
       "      <td>455.0</td>\n",
       "      <td>1920.0</td>\n",
       "    </tr>\n",
       "    <tr>\n",
       "      <th>30648</th>\n",
       "      <td>1812294</td>\n",
       "      <td>Bank Reconciliations-Cash Internal Controls-Ex...</td>\n",
       "      <td>/course/bank-reconciliations-cash-internal-con...</td>\n",
       "      <td>True</td>\n",
       "      <td>714</td>\n",
       "      <td>4.27778</td>\n",
       "      <td>4.31239</td>\n",
       "      <td>9</td>\n",
       "      <td>13</td>\n",
       "      <td>0</td>\n",
       "      <td>2018-07-22T03:45:08Z</td>\n",
       "      <td>2018-08-08T18:13:39Z</td>\n",
       "      <td>455.0</td>\n",
       "      <td>2240.0</td>\n",
       "    </tr>\n",
       "    <tr>\n",
       "      <th>14863</th>\n",
       "      <td>2390588</td>\n",
       "      <td>Dropshipping Amazon To Ebay Easiest Way To Mak...</td>\n",
       "      <td>/course/dropshipping-amazon-to-ebay-easiest-wa...</td>\n",
       "      <td>True</td>\n",
       "      <td>6834</td>\n",
       "      <td>2.80000</td>\n",
       "      <td>2.68612</td>\n",
       "      <td>29</td>\n",
       "      <td>13</td>\n",
       "      <td>0</td>\n",
       "      <td>2019-05-29T22:49:00Z</td>\n",
       "      <td>2019-06-13T00:24:25Z</td>\n",
       "      <td>455.0</td>\n",
       "      <td>4480.0</td>\n",
       "    </tr>\n",
       "    <tr>\n",
       "      <th>4386</th>\n",
       "      <td>2718352</td>\n",
       "      <td>Databricks Fundamentals &amp; Apache Spark Core</td>\n",
       "      <td>/course/databricks-fundamentals-apache-spark-c...</td>\n",
       "      <td>True</td>\n",
       "      <td>8859</td>\n",
       "      <td>4.45513</td>\n",
       "      <td>4.54633</td>\n",
       "      <td>78</td>\n",
       "      <td>71</td>\n",
       "      <td>0</td>\n",
       "      <td>2019-12-23T12:53:40Z</td>\n",
       "      <td>2020-06-21T21:56:03Z</td>\n",
       "      <td>455.0</td>\n",
       "      <td>6400.0</td>\n",
       "    </tr>\n",
       "  </tbody>\n",
       "</table>\n",
       "</div>"
      ],
      "text/plain": [
       "            id                                              title  \\\n",
       "13290  1391700  Predictive Analytics for Business - with Case ...   \n",
       "30648  1812294  Bank Reconciliations-Cash Internal Controls-Ex...   \n",
       "14863  2390588  Dropshipping Amazon To Ebay Easiest Way To Mak...   \n",
       "4386   2718352        Databricks Fundamentals & Apache Spark Core   \n",
       "\n",
       "                                                     url  is_paid  \\\n",
       "13290  /course/predictive-analytics-for-business-with...     True   \n",
       "30648  /course/bank-reconciliations-cash-internal-con...     True   \n",
       "14863  /course/dropshipping-amazon-to-ebay-easiest-wa...     True   \n",
       "4386   /course/databricks-fundamentals-apache-spark-c...     True   \n",
       "\n",
       "       num_subscribers  avg_rating   rating  num_reviews  \\\n",
       "13290              218     3.95000  3.96138           60   \n",
       "30648              714     4.27778  4.31239            9   \n",
       "14863             6834     2.80000  2.68612           29   \n",
       "4386              8859     4.45513  4.54633           78   \n",
       "\n",
       "       num_published_lectures  num_published_practice_tests  \\\n",
       "13290                      19                             0   \n",
       "30648                      13                             0   \n",
       "14863                      13                             0   \n",
       "4386                       71                             0   \n",
       "\n",
       "                    created        published_time  discount_price__amount  \\\n",
       "13290  2017-10-12T14:36:57Z  2017-11-07T17:21:58Z                   455.0   \n",
       "30648  2018-07-22T03:45:08Z  2018-08-08T18:13:39Z                   455.0   \n",
       "14863  2019-05-29T22:49:00Z  2019-06-13T00:24:25Z                   455.0   \n",
       "4386   2019-12-23T12:53:40Z  2020-06-21T21:56:03Z                   455.0   \n",
       "\n",
       "       price_detail__amount  \n",
       "13290                1920.0  \n",
       "30648                2240.0  \n",
       "14863                4480.0  \n",
       "4386                 6400.0  "
      ]
     },
     "execution_count": 6,
     "metadata": {},
     "output_type": "execute_result"
    }
   ],
   "source": [
    "#Now we'll append the dataframes to form a new input_dataset\n",
    "Input_data = Paid.append(Un_paid)\n",
    "Input_data.head(4)"
   ]
  },
  {
   "cell_type": "code",
   "execution_count": 7,
   "metadata": {},
   "outputs": [],
   "source": [
    "target = Input_data['is_paid']   #dependent\n",
    "features = Input_data[['num_published_lectures','num_published_practice_tests']] #independent"
   ]
  },
  {
   "cell_type": "markdown",
   "metadata": {},
   "source": [
    "# Model Building Phase"
   ]
  },
  {
   "cell_type": "code",
   "execution_count": 8,
   "metadata": {},
   "outputs": [],
   "source": [
    "from sklearn.model_selection import train_test_split  #train-test-split\n",
    "x_train, x_test, y_train, y_test= train_test_split(features, target , test_size= 0.30, random_state=0)  "
   ]
  },
  {
   "cell_type": "code",
   "execution_count": 9,
   "metadata": {},
   "outputs": [],
   "source": [
    "#feature scaling is not necessary , as the features are at scale , no huge difference ."
   ]
  },
  {
   "cell_type": "markdown",
   "metadata": {},
   "source": [
    "<font color='blue'>THE KNN MODEL SETUP</font>"
   ]
  },
  {
   "cell_type": "code",
   "execution_count": 10,
   "metadata": {},
   "outputs": [
    {
     "data": {
      "text/plain": [
       "KNeighborsClassifier()"
      ]
     },
     "execution_count": 10,
     "metadata": {},
     "output_type": "execute_result"
    }
   ],
   "source": [
    "from sklearn.neighbors import KNeighborsClassifier  \n",
    "\n",
    "KNN= KNeighborsClassifier(n_neighbors=5, metric='minkowski', p=2 ) \n",
    "\n",
    "#Neighbors = 5 (we'll take opinion from the top 5)\n",
    "#Default metric is minkowski , our P -norm\n",
    "#WE are using p=2 , which implies that is a normal eucliden distance\n",
    "\n",
    "KNN.fit(x_train, y_train) \n",
    "#model is trained\n",
    "\n",
    "#But KNN is a lazy learner though!"
   ]
  },
  {
   "cell_type": "markdown",
   "metadata": {},
   "source": [
    "<font color='blue'>\n",
    "    \n",
    "Our Hyper-parameters here are\n",
    "\n",
    "K in K-nearest-neighs = 5\n",
    "\n",
    "distance_measure = Euclidean\n",
    "\n",
    "</font>"
   ]
  },
  {
   "cell_type": "markdown",
   "metadata": {},
   "source": [
    "<font color='blue'>We shall look into the predictions thus made</font>"
   ]
  },
  {
   "cell_type": "code",
   "execution_count": 11,
   "metadata": {},
   "outputs": [],
   "source": [
    "class_predictions = KNN.predict(x_test)"
   ]
  },
  {
   "cell_type": "code",
   "execution_count": 12,
   "metadata": {},
   "outputs": [
    {
     "data": {
      "text/plain": [
       "array([ True, False,  True, False, False, False, False, False,  True,\n",
       "       False,  True, False, False, False,  True,  True,  True, False,\n",
       "       False,  True, False,  True, False, False,  True, False, False,\n",
       "       False, False, False,  True,  True, False, False, False, False,\n",
       "       False, False, False, False, False, False,  True, False, False,\n",
       "        True,  True,  True, False, False,  True, False, False, False,\n",
       "       False, False, False, False, False, False])"
      ]
     },
     "execution_count": 12,
     "metadata": {},
     "output_type": "execute_result"
    }
   ],
   "source": [
    "class_predictions"
   ]
  },
  {
   "cell_type": "markdown",
   "metadata": {},
   "source": [
    "<font color='blue'>\n",
    "Well as of now \n",
    "\n",
    "* Our model is fit/trained\n",
    "\n",
    "* predictions have been made as well!\n",
    "\n",
    "* Let us visualize the predictions using COnfusion matrix \n",
    "</font>"
   ]
  },
  {
   "cell_type": "code",
   "execution_count": 13,
   "metadata": {},
   "outputs": [
    {
     "data": {
      "text/plain": [
       "array([[29,  2],\n",
       "       [14, 15]], dtype=int64)"
      ]
     },
     "execution_count": 13,
     "metadata": {},
     "output_type": "execute_result"
    }
   ],
   "source": [
    "from sklearn.metrics import confusion_matrix  \n",
    "\n",
    "matrix = confusion_matrix(y_test, class_predictions)\n",
    "\n",
    "matrix"
   ]
  },
  {
   "cell_type": "code",
   "execution_count": 14,
   "metadata": {},
   "outputs": [
    {
     "data": {
      "text/plain": [
       "<matplotlib.axes._subplots.AxesSubplot at 0x24ca0644520>"
      ]
     },
     "execution_count": 14,
     "metadata": {},
     "output_type": "execute_result"
    },
    {
     "data": {
      "image/png": "[encoded data removed]",
      "text/plain": [
       "<Figure size 432x288 with 2 Axes>"
      ]
     },
     "metadata": {
      "needs_background": "light"
     },
     "output_type": "display_data"
    }
   ],
   "source": [
    "sns.heatmap(matrix,annot=True,cmap='coolwarm')"
   ]
  },
  {
   "cell_type": "markdown",
   "metadata": {},
   "source": [
    "<b>\n",
    "\n",
    "That's how the Confusion Matrix looks like\n",
    "\n",
    "Based on the Confusion Matrix , we can infer few key points\n",
    "\n",
    "* our model managed to get 44 labels right (i.e TP and TN)\n",
    "* model has misclassfied 16 samples (i.e FP and FN)\n",
    "\n",
    "\n",
    "Let us compute the Accuracy of our model.\n",
    "    \n",
    "</b>"
   ]
  },
  {
   "cell_type": "code",
   "execution_count": 15,
   "metadata": {},
   "outputs": [
    {
     "name": "stdout",
     "output_type": "stream",
     "text": [
      "Accuracy: 0.7333333333333333\n"
     ]
    }
   ],
   "source": [
    "from sklearn import metrics\n",
    "\n",
    "# Model Accuracy , it is ok to use accuracy in this case because we have defined an equal split of target variables\n",
    "\n",
    "print(\"Accuracy:\",metrics.accuracy_score(y_test, class_predictions))"
   ]
  },
  {
   "cell_type": "markdown",
   "metadata": {},
   "source": [
    "<font color='blue'>So That's our accuracy for K=5 neighs and Euclidean distance .</font>\n",
    "\n",
    "\n"
   ]
  },
  {
   "cell_type": "markdown",
   "metadata": {},
   "source": [
    "<font color='blue'>\n",
    "What does the accuracy imply ? \n",
    "\n",
    "Whenever the course instructor wants to decide to make is course paid or un_paid with our KNN model , he'll end up making correct decisions accuracy% of the times.\n",
    "</font>"
   ]
  },
  {
   "cell_type": "markdown",
   "metadata": {},
   "source": [
    "<font color='dark-green'>Can we do better ??\n",
    "\n",
    "Let us Tweak the value of K in KNN using ELbow Method and we'll change our distance metric</font>"
   ]
  },
  {
   "cell_type": "markdown",
   "metadata": {},
   "source": [
    "# Elbow method to find optimal K "
   ]
  },
  {
   "cell_type": "code",
   "execution_count": 16,
   "metadata": {},
   "outputs": [],
   "source": [
    "error_vals = []\n",
    "\n",
    "for i in range(1,11):\n",
    " \n",
    "    model = KNeighborsClassifier(n_neighbors=i,metric='minkowski', p=2)\n",
    "    \n",
    "    model.fit(x_train,y_train)\n",
    " \n",
    "    pred_i = model.predict(x_test)\n",
    "     \n",
    "    error_vals.append(np.mean(pred_i != y_test))"
   ]
  },
  {
   "cell_type": "markdown",
   "metadata": {},
   "source": [
    "<font color='dark-green'> We shall visualize how the error varies with various k values </font>"
   ]
  },
  {
   "cell_type": "code",
   "execution_count": 17,
   "metadata": {},
   "outputs": [
    {
     "data": {
      "text/plain": [
       "<matplotlib.axes._subplots.AxesSubplot at 0x24ca0ea3d30>"
      ]
     },
     "execution_count": 17,
     "metadata": {},
     "output_type": "execute_result"
    },
    {
     "data": {
      "image/png": "[encoded data removed]",
      "text/plain": [
       "<Figure size 576x576 with 1 Axes>"
      ]
     },
     "metadata": {
      "needs_background": "light"
     },
     "output_type": "display_data"
    }
   ],
   "source": [
    "plt.figure(figsize=(8,8))\n",
    "sns.lineplot(x=range(1,11) , y= error_vals , markers=True , dashes=True )"
   ]
  },
  {
   "cell_type": "markdown",
   "metadata": {},
   "source": [
    "From the above graph , we can conclusively say that No.of.neighbours = 6 at elbow , this may vary for different runs , because the dataset used for KNN here is small and randomness is  introduced via train_test_splits"
   ]
  },
  {
   "cell_type": "markdown",
   "metadata": {},
   "source": [
    "Concluding points :\n",
    "    \n",
    "    * we saw how the values of num_published_lectures and num_practice_tests for a given course can help the instructor to     decide the mode in which a course must be available. \n",
    "    \n",
    "    * KNN binary-classifier has been used to model the above problem , with confusion matrices and accuracy used for metrics visualization\n",
    "    \n",
    "    *Elbow method is used to find the best value of KNN ."
   ]
  }
 ],
 "metadata": {
  "kernelspec": {
   "display_name": "Python 3",
   "language": "python",
   "name": "python3"
  },
  "language_info": {
   "codemirror_mode": {
    "name": "ipython",
    "version": 3
   },
   "file_extension": ".py",
   "mimetype": "text/x-python",
   "name": "python",
   "nbconvert_exporter": "python",
   "pygments_lexer": "ipython3",
   "version": "3.8.3"
  }
 },
 "nbformat": 4,
 "nbformat_minor": 4
}
