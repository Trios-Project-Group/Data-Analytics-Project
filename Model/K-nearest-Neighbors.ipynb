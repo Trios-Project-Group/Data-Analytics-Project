{
 "cells": [
  {
   "cell_type": "markdown",
   "metadata": {},
   "source": [
    "# K -nearest Neighs to predict/decide if a course is paid or  lent out for free ."
   ]
  },
  {
   "cell_type": "markdown",
   "metadata": {},
   "source": [
    "Based on features of a course such as num of published lectures and num of practice tests for a course , the course provider can make a decision based on the vote made with help of its neighbors with similar traits."
   ]
  },
  {
   "cell_type": "code",
   "execution_count": 1,
   "metadata": {},
   "outputs": [],
   "source": [
    "import numpy as np\n",
    "import pandas as pd\n",
    "import matplotlib.pyplot as plt\n",
    "import seaborn as sns\n",
    "import warnings\n",
    "from scipy import stats\n",
    "warnings.filterwarnings('ignore')\n",
    "\n",
    "#Required Modules"
   ]
  },
  {
   "cell_type": "markdown",
   "metadata": {},
   "source": [
    "<font color='blue'>\n",
    "We know that KNN is computationally expensive because of distance calculations  , hence we limit ourselves with a sample obtained from the population data . For better simulation of results , we'll sample data in such a way that target classes are balanced\n",
    "</font>"
   ]
  },
  {
   "cell_type": "code",
   "execution_count": 2,
   "metadata": {},
   "outputs": [],
   "source": [
    "population = pd.read_csv('../Dataset/Development_IT.csv')"
   ]
  },
  {
   "cell_type": "code",
   "execution_count": 3,
   "metadata": {},
   "outputs": [
    {
     "data": {
      "text/plain": [
       "Index(['id', 'title', 'url', 'is_paid', 'num_subscribers', 'avg_rating',\n",
       "       'rating', 'num_reviews', 'num_published_lectures',\n",
       "       'num_published_practice_tests', 'created', 'published_time',\n",
       "       'discount_price__amount', 'price_detail__amount'],\n",
       "      dtype='object')"
      ]
     },
     "execution_count": 3,
     "metadata": {},
     "output_type": "execute_result"
    }
   ],
   "source": [
    "population.columns"
   ]
  },
  {
   "cell_type": "code",
   "execution_count": 4,
   "metadata": {},
   "outputs": [],
   "source": [
    "Un_paid = population[population['is_paid']==False].sample(100)\n",
    "#We'll extract 100 random sample for target class of False"
   ]
  },
  {
   "cell_type": "code",
   "execution_count": 5,
   "metadata": {},
   "outputs": [],
   "source": [
    "Paid = population[population['is_paid']==True].sample(100)\n",
    "#100 samples of Paid=True record"
   ]
  },
  {
   "cell_type": "code",
   "execution_count": 6,
   "metadata": {},
   "outputs": [
    {
     "data": {
      "text/html": [
       "<div>\n",
       "<style scoped>\n",
       "    .dataframe tbody tr th:only-of-type {\n",
       "        vertical-align: middle;\n",
       "    }\n",
       "\n",
       "    .dataframe tbody tr th {\n",
       "        vertical-align: top;\n",
       "    }\n",
       "\n",
       "    .dataframe thead th {\n",
       "        text-align: right;\n",
       "    }\n",
       "</style>\n",
       "<table border=\"1\" class=\"dataframe\">\n",
       "  <thead>\n",
       "    <tr style=\"text-align: right;\">\n",
       "      <th></th>\n",
       "      <th>id</th>\n",
       "      <th>title</th>\n",
       "      <th>url</th>\n",
       "      <th>is_paid</th>\n",
       "      <th>num_subscribers</th>\n",
       "      <th>avg_rating</th>\n",
       "      <th>rating</th>\n",
       "      <th>num_reviews</th>\n",
       "      <th>num_published_lectures</th>\n",
       "      <th>num_published_practice_tests</th>\n",
       "      <th>created</th>\n",
       "      <th>published_time</th>\n",
       "      <th>discount_price__amount</th>\n",
       "      <th>price_detail__amount</th>\n",
       "    </tr>\n",
       "  </thead>\n",
       "  <tbody>\n",
       "    <tr>\n",
       "      <th>23884</th>\n",
       "      <td>276788</td>\n",
       "      <td>RHCSA Exam Training by Infinite Skills</td>\n",
       "      <td>/course/red-hat-certified-system-administrator...</td>\n",
       "      <td>True</td>\n",
       "      <td>7152</td>\n",
       "      <td>3.93333</td>\n",
       "      <td>4.02322</td>\n",
       "      <td>1132</td>\n",
       "      <td>101</td>\n",
       "      <td>0</td>\n",
       "      <td>2014-08-07T19:33:49Z</td>\n",
       "      <td>2014-08-15T17:44:30Z</td>\n",
       "      <td>500.0</td>\n",
       "      <td>3200.0</td>\n",
       "    </tr>\n",
       "    <tr>\n",
       "      <th>48</th>\n",
       "      <td>383576</td>\n",
       "      <td>C# Intermediate: Classes, Interfaces and OOP</td>\n",
       "      <td>/course/csharp-intermediate-classes-interfaces...</td>\n",
       "      <td>True</td>\n",
       "      <td>91596</td>\n",
       "      <td>4.55125</td>\n",
       "      <td>4.55078</td>\n",
       "      <td>20283</td>\n",
       "      <td>45</td>\n",
       "      <td>0</td>\n",
       "      <td>2015-01-02T23:57:07Z</td>\n",
       "      <td>2015-02-24T04:08:09Z</td>\n",
       "      <td>481.0</td>\n",
       "      <td>8960.0</td>\n",
       "    </tr>\n",
       "    <tr>\n",
       "      <th>15604</th>\n",
       "      <td>1238028</td>\n",
       "      <td>QlikView by Examples - Beginner course [Fast T...</td>\n",
       "      <td>/course/qlikview-by-examples-beginner-course-f...</td>\n",
       "      <td>True</td>\n",
       "      <td>1152</td>\n",
       "      <td>3.45000</td>\n",
       "      <td>3.38920</td>\n",
       "      <td>21</td>\n",
       "      <td>12</td>\n",
       "      <td>0</td>\n",
       "      <td>2017-06-01T14:25:41Z</td>\n",
       "      <td>2017-06-13T16:39:14Z</td>\n",
       "      <td>455.0</td>\n",
       "      <td>5120.0</td>\n",
       "    </tr>\n",
       "    <tr>\n",
       "      <th>927</th>\n",
       "      <td>1411694</td>\n",
       "      <td>The complete React Fullstack course ( 2nd edit...</td>\n",
       "      <td>/course/the-complete-react-fullstack-course/</td>\n",
       "      <td>True</td>\n",
       "      <td>4136</td>\n",
       "      <td>4.66667</td>\n",
       "      <td>4.64674</td>\n",
       "      <td>831</td>\n",
       "      <td>455</td>\n",
       "      <td>0</td>\n",
       "      <td>2017-10-27T19:23:24Z</td>\n",
       "      <td>2018-01-29T00:22:31Z</td>\n",
       "      <td>455.0</td>\n",
       "      <td>1280.0</td>\n",
       "    </tr>\n",
       "  </tbody>\n",
       "</table>\n",
       "</div>"
      ],
      "text/plain": [
       "            id                                              title  \\\n",
       "23884   276788             RHCSA Exam Training by Infinite Skills   \n",
       "48      383576       C# Intermediate: Classes, Interfaces and OOP   \n",
       "15604  1238028  QlikView by Examples - Beginner course [Fast T...   \n",
       "927    1411694  The complete React Fullstack course ( 2nd edit...   \n",
       "\n",
       "                                                     url  is_paid  \\\n",
       "23884  /course/red-hat-certified-system-administrator...     True   \n",
       "48     /course/csharp-intermediate-classes-interfaces...     True   \n",
       "15604  /course/qlikview-by-examples-beginner-course-f...     True   \n",
       "927         /course/the-complete-react-fullstack-course/     True   \n",
       "\n",
       "       num_subscribers  avg_rating   rating  num_reviews  \\\n",
       "23884             7152     3.93333  4.02322         1132   \n",
       "48               91596     4.55125  4.55078        20283   \n",
       "15604             1152     3.45000  3.38920           21   \n",
       "927               4136     4.66667  4.64674          831   \n",
       "\n",
       "       num_published_lectures  num_published_practice_tests  \\\n",
       "23884                     101                             0   \n",
       "48                         45                             0   \n",
       "15604                      12                             0   \n",
       "927                       455                             0   \n",
       "\n",
       "                    created        published_time  discount_price__amount  \\\n",
       "23884  2014-08-07T19:33:49Z  2014-08-15T17:44:30Z                   500.0   \n",
       "48     2015-01-02T23:57:07Z  2015-02-24T04:08:09Z                   481.0   \n",
       "15604  2017-06-01T14:25:41Z  2017-06-13T16:39:14Z                   455.0   \n",
       "927    2017-10-27T19:23:24Z  2018-01-29T00:22:31Z                   455.0   \n",
       "\n",
       "       price_detail__amount  \n",
       "23884                3200.0  \n",
       "48                   8960.0  \n",
       "15604                5120.0  \n",
       "927                  1280.0  "
      ]
     },
     "execution_count": 6,
     "metadata": {},
     "output_type": "execute_result"
    }
   ],
   "source": [
    "#Now we'll append the dataframes to form a new input_dataset\n",
    "Input_data = Paid.append(Un_paid)\n",
    "Input_data.head(4)"
   ]
  },
  {
   "cell_type": "code",
   "execution_count": 7,
   "metadata": {},
   "outputs": [],
   "source": [
    "target = Input_data['is_paid']   #dependent\n",
    "features = Input_data[['num_published_lectures','num_published_practice_tests']] #independent"
   ]
  },
  {
   "cell_type": "markdown",
   "metadata": {},
   "source": [
    "# Model Building Phase"
   ]
  },
  {
   "cell_type": "code",
   "execution_count": 8,
   "metadata": {},
   "outputs": [],
   "source": [
    "from sklearn.model_selection import train_test_split  #train-test-split\n",
    "x_train, x_test, y_train, y_test= train_test_split(features, target , test_size= 0.30, random_state=0)  "
   ]
  },
  {
   "cell_type": "code",
   "execution_count": 9,
   "metadata": {},
   "outputs": [],
   "source": [
    "#feature scaling is not necessary , as the features are at scale , no huge difference ."
   ]
  },
  {
   "cell_type": "markdown",
   "metadata": {},
   "source": [
    "<font color='blue'>THE KNN MODEL SETUP</font>"
   ]
  },
  {
   "cell_type": "code",
   "execution_count": 10,
   "metadata": {},
   "outputs": [
    {
     "data": {
      "text/plain": [
       "KNeighborsClassifier()"
      ]
     },
     "execution_count": 10,
     "metadata": {},
     "output_type": "execute_result"
    }
   ],
   "source": [
    "from sklearn.neighbors import KNeighborsClassifier  \n",
    "\n",
    "KNN= KNeighborsClassifier(n_neighbors=5, metric='minkowski', p=2 ) \n",
    "\n",
    "#Neighbors = 5 (we'll take opinion from the top 5)\n",
    "#Default metric is minkowski , our P -norm\n",
    "#WE are using p=2 , which implies that is a normal eucliden distance\n",
    "\n",
    "KNN.fit(x_train, y_train) \n",
    "#model is trained\n",
    "\n",
    "#But KNN is a lazy learner though!"
   ]
  },
  {
   "cell_type": "markdown",
   "metadata": {},
   "source": [
    "<font color='blue'>\n",
    "    \n",
    "Our Hyper-parameters here are\n",
    "\n",
    "K in K-nearest-neighs = 5\n",
    "\n",
    "distance_measure = Euclidean\n",
    "\n",
    "</font>"
   ]
  },
  {
   "cell_type": "markdown",
   "metadata": {},
   "source": [
    "<font color='blue'>We shall look into the predictions thus made</font>"
   ]
  },
  {
   "cell_type": "code",
   "execution_count": 11,
   "metadata": {},
   "outputs": [],
   "source": [
    "class_predictions = KNN.predict(x_test)"
   ]
  },
  {
   "cell_type": "code",
   "execution_count": 12,
   "metadata": {},
   "outputs": [
    {
     "data": {
      "text/plain": [
       "array([ True, False, False,  True, False,  True,  True, False, False,\n",
       "        True, False, False, False, False,  True, False,  True, False,\n",
       "        True,  True, False, False, False, False,  True, False, False,\n",
       "       False, False, False,  True,  True, False, False,  True, False,\n",
       "       False,  True,  True, False, False, False,  True,  True, False,\n",
       "        True,  True, False, False,  True,  True, False, False,  True,\n",
       "        True,  True, False, False,  True, False])"
      ]
     },
     "execution_count": 12,
     "metadata": {},
     "output_type": "execute_result"
    }
   ],
   "source": [
    "class_predictions"
   ]
  },
  {
   "cell_type": "markdown",
   "metadata": {},
   "source": [
    "<font color='blue'>\n",
    "Well as of now \n",
    "\n",
    "* Our model is fit/trained\n",
    "\n",
    "* predictions have been made as well!\n",
    "\n",
    "* Let us visualize the predictions using COnfusion matrix \n",
    "</font>"
   ]
  },
  {
   "cell_type": "code",
   "execution_count": 13,
   "metadata": {},
   "outputs": [
    {
     "data": {
      "text/plain": [
       "array([[26,  5],\n",
       "       [ 9, 20]], dtype=int64)"
      ]
     },
     "execution_count": 13,
     "metadata": {},
     "output_type": "execute_result"
    }
   ],
   "source": [
    "from sklearn.metrics import confusion_matrix  \n",
    "\n",
    "matrix = confusion_matrix(y_test, class_predictions)\n",
    "\n",
    "matrix"
   ]
  },
  {
   "cell_type": "code",
   "execution_count": 14,
   "metadata": {},
   "outputs": [
    {
     "data": {
      "text/plain": [
       "<matplotlib.axes._subplots.AxesSubplot at 0x1fa2e8b3760>"
      ]
     },
     "execution_count": 14,
     "metadata": {},
     "output_type": "execute_result"
    },
    {
     "data": {
      "image/png": "[encoded data removed]",
      "text/plain": [
       "<Figure size 432x288 with 2 Axes>"
      ]
     },
     "metadata": {
      "needs_background": "light"
     },
     "output_type": "display_data"
    }
   ],
   "source": [
    "sns.heatmap(matrix,annot=True,cmap='coolwarm')"
   ]
  },
  {
   "cell_type": "markdown",
   "metadata": {},
   "source": [
    "<b>\n",
    "\n",
    "That's how the Confusion Matrix looks like\n",
    "\n",
    "Based on the Confusion Matrix , we can infer few key points\n",
    "\n",
    "* our model managed to get 46 labels right (i.e TP and TN)\n",
    "* model has misclassfied 14 samples (i.e FP and FN)\n",
    "\n",
    "\n",
    "Let us compute the Accuracy of our model.\n",
    "    \n",
    "</b>"
   ]
  },
  {
   "cell_type": "code",
   "execution_count": 18,
   "metadata": {},
   "outputs": [
    {
     "name": "stdout",
     "output_type": "stream",
     "text": [
      "Accuracy:  0.7666666666666667\n",
      "Recall :   0.6896551724137931\n",
      "Precision : 0.8\n",
      "F1 score :  0.7407407407407408\n"
     ]
    }
   ],
   "source": [
    "from sklearn import metrics\n",
    "\n",
    "# Model Accuracy , it is ok to use accuracy in this case because we have defined an equal split of target variables\n",
    "\n",
    "print(\"Accuracy: \",metrics.accuracy_score(y_test, class_predictions))\n",
    "print(\"Recall :  \",metrics.recall_score(y_test,class_predictions))\n",
    "print(\"Precision :\",metrics.precision_score(y_test,class_predictions))\n",
    "print(\"F1 score : \",metrics.f1_score(y_test,class_predictions))"
   ]
  },
  {
   "cell_type": "markdown",
   "metadata": {},
   "source": [
    "<font color='blue'>So That's our accuracy for K=5 neighs and Euclidean distance .</font>\n",
    "\n",
    "\n"
   ]
  },
  {
   "cell_type": "markdown",
   "metadata": {},
   "source": [
    "<font color='blue'>\n",
    "What does the accuracy imply ? \n",
    "\n",
    "Whenever the course instructor wants to decide to make is course paid or un_paid with our KNN model , he'll end up making correct decisions accuracy% of the times.\n",
    "</font>"
   ]
  },
  {
   "cell_type": "markdown",
   "metadata": {},
   "source": [
    "<font color='dark-green'>Can we do better ??\n",
    "\n",
    "Let us Tweak the value of K in KNN using ELbow Method and we'll change our distance metric</font>"
   ]
  },
  {
   "cell_type": "markdown",
   "metadata": {},
   "source": [
    "# Elbow method to find optimal K "
   ]
  },
  {
   "cell_type": "code",
   "execution_count": 16,
   "metadata": {},
   "outputs": [],
   "source": [
    "error_vals = []\n",
    "\n",
    "for i in range(1,11):\n",
    " \n",
    "    model = KNeighborsClassifier(n_neighbors=i,metric='minkowski', p=2)\n",
    "    \n",
    "    model.fit(x_train,y_train)\n",
    " \n",
    "    pred_i = model.predict(x_test)\n",
    "     \n",
    "    error_vals.append(np.mean(pred_i != y_test))"
   ]
  },
  {
   "cell_type": "markdown",
   "metadata": {},
   "source": [
    "<font color='dark-green'> We shall visualize how the error varies with various k values </font>"
   ]
  },
  {
   "cell_type": "code",
   "execution_count": 19,
   "metadata": {},
   "outputs": [
    {
     "data": {
      "text/plain": [
       "Text(0.5, 1.0, 'Elbow method for finding optimal K')"
      ]
     },
     "execution_count": 19,
     "metadata": {},
     "output_type": "execute_result"
    },
    {
     "data": {
      "image/png": "[encoded data removed]",
      "text/plain": [
       "<Figure size 576x576 with 1 Axes>"
      ]
     },
     "metadata": {
      "needs_background": "light"
     },
     "output_type": "display_data"
    }
   ],
   "source": [
    "plt.figure(figsize=(8,8))\n",
    "sns.lineplot(x=range(1,11) , y= error_vals , markers=True , dashes=True )\n",
    "plt.xlabel('K')\n",
    "plt.ylabel('mean prediction error')\n",
    "plt.title('Elbow method for finding optimal K')"
   ]
  },
  {
   "cell_type": "markdown",
   "metadata": {},
   "source": [
    "From the above graph , we can conclusively say that No.of.neighbours = 5 at elbow , this may vary for different runs , because the dataset used for KNN here is small and randomness is  introduced via train_test_splits"
   ]
  },
  {
   "cell_type": "markdown",
   "metadata": {},
   "source": [
    "Concluding points :\n",
    "    \n",
    "    * we saw how the values of num_published_lectures and num_practice_tests for a given course can help the instructor to     decide the mode in which a course must be available. \n",
    "    \n",
    "    * KNN binary-classifier has been used to model the above problem , with confusion matrices and accuracy used for metrics visualization\n",
    "    \n",
    "    *Elbow method is used to find the best value of KNN ."
   ]
  }
 ],
 "metadata": {
  "kernelspec": {
   "display_name": "Python 3",
   "language": "python",
   "name": "python3"
  },
  "language_info": {
   "codemirror_mode": {
    "name": "ipython",
    "version": 3
   },
   "file_extension": ".py",
   "mimetype": "text/x-python",
   "name": "python",
   "nbconvert_exporter": "python",
   "pygments_lexer": "ipython3",
   "version": "3.8.3"
  }
 },
 "nbformat": 4,
 "nbformat_minor": 4
}
