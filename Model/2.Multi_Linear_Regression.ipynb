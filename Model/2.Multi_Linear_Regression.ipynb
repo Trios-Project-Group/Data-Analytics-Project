{
 "cells": [
  {
   "cell_type": "markdown",
   "metadata": {},
   "source": [
    "<h1>Muli Linear Regression with Merged Dataset</h1>"
   ]
  },
  {
   "cell_type": "code",
   "execution_count": 1,
   "metadata": {},
   "outputs": [],
   "source": [
    "import pandas as pd\n",
    "import numpy as np"
   ]
  },
  {
   "cell_type": "code",
   "execution_count": 7,
   "metadata": {},
   "outputs": [
    {
     "data": {
      "text/html": [
       "<div>\n",
       "<style scoped>\n",
       "    .dataframe tbody tr th:only-of-type {\n",
       "        vertical-align: middle;\n",
       "    }\n",
       "\n",
       "    .dataframe tbody tr th {\n",
       "        vertical-align: top;\n",
       "    }\n",
       "\n",
       "    .dataframe thead th {\n",
       "        text-align: right;\n",
       "    }\n",
       "</style>\n",
       "<table border=\"1\" class=\"dataframe\">\n",
       "  <thead>\n",
       "    <tr style=\"text-align: right;\">\n",
       "      <th></th>\n",
       "      <th>id</th>\n",
       "      <th>title</th>\n",
       "      <th>url</th>\n",
       "      <th>is_paid</th>\n",
       "      <th>num_subscribers</th>\n",
       "      <th>avg_rating</th>\n",
       "      <th>rating</th>\n",
       "      <th>num_reviews</th>\n",
       "      <th>num_published_lectures</th>\n",
       "      <th>num_published_practice_tests</th>\n",
       "      <th>created</th>\n",
       "      <th>published_time</th>\n",
       "      <th>discount_price__amount</th>\n",
       "      <th>price_detail__amount</th>\n",
       "    </tr>\n",
       "  </thead>\n",
       "  <tbody>\n",
       "    <tr>\n",
       "      <th>0</th>\n",
       "      <td>567828</td>\n",
       "      <td>2020 Complete Python Bootcamp: From Zero to He...</td>\n",
       "      <td>/course/complete-python-bootcamp/</td>\n",
       "      <td>True</td>\n",
       "      <td>1086954</td>\n",
       "      <td>4.56326</td>\n",
       "      <td>4.56743</td>\n",
       "      <td>314098</td>\n",
       "      <td>152</td>\n",
       "      <td>0</td>\n",
       "      <td>2015-07-29T00:12:23Z</td>\n",
       "      <td>2015-10-12T21:42:53Z</td>\n",
       "      <td>455.0</td>\n",
       "      <td>8640.0</td>\n",
       "    </tr>\n",
       "    <tr>\n",
       "      <th>1</th>\n",
       "      <td>625204</td>\n",
       "      <td>The Web Developer Bootcamp</td>\n",
       "      <td>/course/the-web-developer-bootcamp/</td>\n",
       "      <td>True</td>\n",
       "      <td>592474</td>\n",
       "      <td>4.64777</td>\n",
       "      <td>4.65291</td>\n",
       "      <td>181621</td>\n",
       "      <td>405</td>\n",
       "      <td>0</td>\n",
       "      <td>2015-09-28T21:32:19Z</td>\n",
       "      <td>2015-11-02T21:13:27Z</td>\n",
       "      <td>455.0</td>\n",
       "      <td>8640.0</td>\n",
       "    </tr>\n",
       "    <tr>\n",
       "      <th>2</th>\n",
       "      <td>950390</td>\n",
       "      <td>Machine Learning A-Z™: Hands-On Python &amp; R In ...</td>\n",
       "      <td>/course/machinelearning/</td>\n",
       "      <td>True</td>\n",
       "      <td>687330</td>\n",
       "      <td>4.55210</td>\n",
       "      <td>4.54932</td>\n",
       "      <td>131007</td>\n",
       "      <td>323</td>\n",
       "      <td>0</td>\n",
       "      <td>2016-09-05T09:54:22Z</td>\n",
       "      <td>2016-09-13T21:43:44Z</td>\n",
       "      <td>455.0</td>\n",
       "      <td>8640.0</td>\n",
       "    </tr>\n",
       "    <tr>\n",
       "      <th>3</th>\n",
       "      <td>756150</td>\n",
       "      <td>Angular - The Complete Guide (2020 Edition)</td>\n",
       "      <td>/course/the-complete-guide-to-angular-2/</td>\n",
       "      <td>True</td>\n",
       "      <td>417746</td>\n",
       "      <td>4.57687</td>\n",
       "      <td>4.58594</td>\n",
       "      <td>128705</td>\n",
       "      <td>455</td>\n",
       "      <td>0</td>\n",
       "      <td>2016-02-08T17:02:55Z</td>\n",
       "      <td>2016-02-11T07:29:29Z</td>\n",
       "      <td>462.0</td>\n",
       "      <td>8640.0</td>\n",
       "    </tr>\n",
       "    <tr>\n",
       "      <th>4</th>\n",
       "      <td>533682</td>\n",
       "      <td>Java Programming Masterclass for Software Deve...</td>\n",
       "      <td>/course/java-the-complete-java-developer-course/</td>\n",
       "      <td>True</td>\n",
       "      <td>497195</td>\n",
       "      <td>4.56571</td>\n",
       "      <td>4.57203</td>\n",
       "      <td>122306</td>\n",
       "      <td>400</td>\n",
       "      <td>0</td>\n",
       "      <td>2015-06-21T20:25:56Z</td>\n",
       "      <td>2015-07-21T22:01:13Z</td>\n",
       "      <td>455.0</td>\n",
       "      <td>8640.0</td>\n",
       "    </tr>\n",
       "    <tr>\n",
       "      <th>...</th>\n",
       "      <td>...</td>\n",
       "      <td>...</td>\n",
       "      <td>...</td>\n",
       "      <td>...</td>\n",
       "      <td>...</td>\n",
       "      <td>...</td>\n",
       "      <td>...</td>\n",
       "      <td>...</td>\n",
       "      <td>...</td>\n",
       "      <td>...</td>\n",
       "      <td>...</td>\n",
       "      <td>...</td>\n",
       "      <td>...</td>\n",
       "      <td>...</td>\n",
       "    </tr>\n",
       "    <tr>\n",
       "      <th>32746</th>\n",
       "      <td>1516977</td>\n",
       "      <td>Fundamental Service Oriented Arch (SOA) Securi...</td>\n",
       "      <td>/course/fundamental-service-oriented-arch-soa-...</td>\n",
       "      <td>True</td>\n",
       "      <td>16</td>\n",
       "      <td>3.25000</td>\n",
       "      <td>2.65702</td>\n",
       "      <td>2</td>\n",
       "      <td>0</td>\n",
       "      <td>2</td>\n",
       "      <td>2018-01-19T09:03:46Z</td>\n",
       "      <td>2018-01-28T09:20:37Z</td>\n",
       "      <td>455.0</td>\n",
       "      <td>1280.0</td>\n",
       "    </tr>\n",
       "    <tr>\n",
       "      <th>32747</th>\n",
       "      <td>1479824</td>\n",
       "      <td>Linux Certification for Experts - Practice Tes...</td>\n",
       "      <td>/course/linux-certification-for-beginners-prac...</td>\n",
       "      <td>True</td>\n",
       "      <td>15</td>\n",
       "      <td>4.00000</td>\n",
       "      <td>3.56818</td>\n",
       "      <td>2</td>\n",
       "      <td>0</td>\n",
       "      <td>2</td>\n",
       "      <td>2017-12-23T12:44:39Z</td>\n",
       "      <td>2017-12-24T07:38:36Z</td>\n",
       "      <td>455.0</td>\n",
       "      <td>1280.0</td>\n",
       "    </tr>\n",
       "    <tr>\n",
       "      <th>32748</th>\n",
       "      <td>1879598</td>\n",
       "      <td>SAP SuccessFactors Employee Central Payroll Fu...</td>\n",
       "      <td>/course/public-transport-management-systems/</td>\n",
       "      <td>True</td>\n",
       "      <td>19</td>\n",
       "      <td>2.75000</td>\n",
       "      <td>2.70354</td>\n",
       "      <td>2</td>\n",
       "      <td>5</td>\n",
       "      <td>0</td>\n",
       "      <td>2018-08-27T14:43:42Z</td>\n",
       "      <td>2018-09-19T23:19:18Z</td>\n",
       "      <td>1280.0</td>\n",
       "      <td>1280.0</td>\n",
       "    </tr>\n",
       "    <tr>\n",
       "      <th>32749</th>\n",
       "      <td>1940616</td>\n",
       "      <td>Comptia Linux+ / LPIC-1 (102-400)</td>\n",
       "      <td>/course/comptia-linux-lpic-1-102-400/</td>\n",
       "      <td>True</td>\n",
       "      <td>1082</td>\n",
       "      <td>3.75000</td>\n",
       "      <td>3.72059</td>\n",
       "      <td>2</td>\n",
       "      <td>31</td>\n",
       "      <td>0</td>\n",
       "      <td>2018-09-30T15:11:27Z</td>\n",
       "      <td>2018-12-11T16:22:32Z</td>\n",
       "      <td>455.0</td>\n",
       "      <td>1280.0</td>\n",
       "    </tr>\n",
       "    <tr>\n",
       "      <th>32750</th>\n",
       "      <td>543712</td>\n",
       "      <td>Cisco Networking CCNA IPv6 OSPF</td>\n",
       "      <td>/course/networkingstepbystep-ipv6-ospf/</td>\n",
       "      <td>True</td>\n",
       "      <td>858</td>\n",
       "      <td>4.50000</td>\n",
       "      <td>4.48220</td>\n",
       "      <td>2</td>\n",
       "      <td>24</td>\n",
       "      <td>0</td>\n",
       "      <td>2015-07-03T02:24:30Z</td>\n",
       "      <td>2015-07-07T00:01:23Z</td>\n",
       "      <td>455.0</td>\n",
       "      <td>8640.0</td>\n",
       "    </tr>\n",
       "  </tbody>\n",
       "</table>\n",
       "<p>32751 rows × 14 columns</p>\n",
       "</div>"
      ],
      "text/plain": [
       "            id                                              title  \\\n",
       "0       567828  2020 Complete Python Bootcamp: From Zero to He...   \n",
       "1       625204                         The Web Developer Bootcamp   \n",
       "2       950390  Machine Learning A-Z™: Hands-On Python & R In ...   \n",
       "3       756150        Angular - The Complete Guide (2020 Edition)   \n",
       "4       533682  Java Programming Masterclass for Software Deve...   \n",
       "...        ...                                                ...   \n",
       "32746  1516977  Fundamental Service Oriented Arch (SOA) Securi...   \n",
       "32747  1479824  Linux Certification for Experts - Practice Tes...   \n",
       "32748  1879598  SAP SuccessFactors Employee Central Payroll Fu...   \n",
       "32749  1940616                  Comptia Linux+ / LPIC-1 (102-400)   \n",
       "32750   543712                    Cisco Networking CCNA IPv6 OSPF   \n",
       "\n",
       "                                                     url  is_paid  \\\n",
       "0                      /course/complete-python-bootcamp/     True   \n",
       "1                    /course/the-web-developer-bootcamp/     True   \n",
       "2                               /course/machinelearning/     True   \n",
       "3               /course/the-complete-guide-to-angular-2/     True   \n",
       "4       /course/java-the-complete-java-developer-course/     True   \n",
       "...                                                  ...      ...   \n",
       "32746  /course/fundamental-service-oriented-arch-soa-...     True   \n",
       "32747  /course/linux-certification-for-beginners-prac...     True   \n",
       "32748       /course/public-transport-management-systems/     True   \n",
       "32749              /course/comptia-linux-lpic-1-102-400/     True   \n",
       "32750            /course/networkingstepbystep-ipv6-ospf/     True   \n",
       "\n",
       "       num_subscribers  avg_rating   rating  num_reviews  \\\n",
       "0              1086954     4.56326  4.56743       314098   \n",
       "1               592474     4.64777  4.65291       181621   \n",
       "2               687330     4.55210  4.54932       131007   \n",
       "3               417746     4.57687  4.58594       128705   \n",
       "4               497195     4.56571  4.57203       122306   \n",
       "...                ...         ...      ...          ...   \n",
       "32746               16     3.25000  2.65702            2   \n",
       "32747               15     4.00000  3.56818            2   \n",
       "32748               19     2.75000  2.70354            2   \n",
       "32749             1082     3.75000  3.72059            2   \n",
       "32750              858     4.50000  4.48220            2   \n",
       "\n",
       "       num_published_lectures  num_published_practice_tests  \\\n",
       "0                         152                             0   \n",
       "1                         405                             0   \n",
       "2                         323                             0   \n",
       "3                         455                             0   \n",
       "4                         400                             0   \n",
       "...                       ...                           ...   \n",
       "32746                       0                             2   \n",
       "32747                       0                             2   \n",
       "32748                       5                             0   \n",
       "32749                      31                             0   \n",
       "32750                      24                             0   \n",
       "\n",
       "                    created        published_time  discount_price__amount  \\\n",
       "0      2015-07-29T00:12:23Z  2015-10-12T21:42:53Z                   455.0   \n",
       "1      2015-09-28T21:32:19Z  2015-11-02T21:13:27Z                   455.0   \n",
       "2      2016-09-05T09:54:22Z  2016-09-13T21:43:44Z                   455.0   \n",
       "3      2016-02-08T17:02:55Z  2016-02-11T07:29:29Z                   462.0   \n",
       "4      2015-06-21T20:25:56Z  2015-07-21T22:01:13Z                   455.0   \n",
       "...                     ...                   ...                     ...   \n",
       "32746  2018-01-19T09:03:46Z  2018-01-28T09:20:37Z                   455.0   \n",
       "32747  2017-12-23T12:44:39Z  2017-12-24T07:38:36Z                   455.0   \n",
       "32748  2018-08-27T14:43:42Z  2018-09-19T23:19:18Z                  1280.0   \n",
       "32749  2018-09-30T15:11:27Z  2018-12-11T16:22:32Z                   455.0   \n",
       "32750  2015-07-03T02:24:30Z  2015-07-07T00:01:23Z                   455.0   \n",
       "\n",
       "       price_detail__amount  \n",
       "0                    8640.0  \n",
       "1                    8640.0  \n",
       "2                    8640.0  \n",
       "3                    8640.0  \n",
       "4                    8640.0  \n",
       "...                     ...  \n",
       "32746                1280.0  \n",
       "32747                1280.0  \n",
       "32748                1280.0  \n",
       "32749                1280.0  \n",
       "32750                8640.0  \n",
       "\n",
       "[32751 rows x 14 columns]"
      ]
     },
     "execution_count": 7,
     "metadata": {},
     "output_type": "execute_result"
    }
   ],
   "source": [
    "#Now we import the new dataset merged before to check records and null values if any\n",
    "df_new = pd.read_csv('Dataset/Development_IT.csv')\n",
    "df_new"
   ]
  },
  {
   "cell_type": "code",
   "execution_count": 3,
   "metadata": {},
   "outputs": [
    {
     "data": {
      "text/plain": [
       "False"
      ]
     },
     "execution_count": 3,
     "metadata": {},
     "output_type": "execute_result"
    }
   ],
   "source": [
    "#Check for null values if any\n",
    "df_new.isnull().values.any()"
   ]
  },
  {
   "cell_type": "code",
   "execution_count": 4,
   "metadata": {},
   "outputs": [
    {
     "name": "stdout",
     "output_type": "stream",
     "text": [
      "[]\n"
     ]
    }
   ],
   "source": [
    "#Check for duplicates if any\n",
    "l=[]\n",
    "for i,j in enumerate(df_new['id'].value_counts()):\n",
    "    if j==2:\n",
    "        l.append(df_new['id'].value_counts().index[i])\n",
    "print(l)#Implies duplicates are removed"
   ]
  },
  {
   "cell_type": "markdown",
   "metadata": {},
   "source": [
    "<h1>Model Building</h1>"
   ]
  },
  {
   "cell_type": "markdown",
   "metadata": {},
   "source": [
    "<h2> Multi Linear Repreesion</h2>"
   ]
  },
  {
   "cell_type": "code",
   "execution_count": 5,
   "metadata": {},
   "outputs": [
    {
     "data": {
      "text/plain": [
       "Index(['id', 'title', 'url', 'is_paid', 'num_subscribers', 'avg_rating',\n",
       "       'rating', 'num_reviews', 'num_published_lectures',\n",
       "       'num_published_practice_tests', 'created', 'published_time',\n",
       "       'discount_price__amount', 'price_detail__amount'],\n",
       "      dtype='object')"
      ]
     },
     "execution_count": 5,
     "metadata": {},
     "output_type": "execute_result"
    }
   ],
   "source": [
    "#Columns of the merged dataset\n",
    "df = df_new\n",
    "df.columns"
   ]
  },
  {
   "cell_type": "markdown",
   "metadata": {},
   "source": [
    "<h3> Getting Sample of Data </h3>"
   ]
  },
  {
   "cell_type": "code",
   "execution_count": 6,
   "metadata": {},
   "outputs": [
    {
     "data": {
      "text/html": [
       "<div>\n",
       "<style scoped>\n",
       "    .dataframe tbody tr th:only-of-type {\n",
       "        vertical-align: middle;\n",
       "    }\n",
       "\n",
       "    .dataframe tbody tr th {\n",
       "        vertical-align: top;\n",
       "    }\n",
       "\n",
       "    .dataframe thead th {\n",
       "        text-align: right;\n",
       "    }\n",
       "</style>\n",
       "<table border=\"1\" class=\"dataframe\">\n",
       "  <thead>\n",
       "    <tr style=\"text-align: right;\">\n",
       "      <th></th>\n",
       "      <th>id</th>\n",
       "      <th>title</th>\n",
       "      <th>url</th>\n",
       "      <th>is_paid</th>\n",
       "      <th>num_subscribers</th>\n",
       "      <th>avg_rating</th>\n",
       "      <th>rating</th>\n",
       "      <th>num_reviews</th>\n",
       "      <th>num_published_lectures</th>\n",
       "      <th>num_published_practice_tests</th>\n",
       "      <th>created</th>\n",
       "      <th>published_time</th>\n",
       "      <th>discount_price__amount</th>\n",
       "      <th>price_detail__amount</th>\n",
       "    </tr>\n",
       "  </thead>\n",
       "  <tbody>\n",
       "    <tr>\n",
       "      <th>22389</th>\n",
       "      <td>2811181</td>\n",
       "      <td>Guía práctica del Análisis Financiero</td>\n",
       "      <td>/course/guia-practica-del-analisis-financiero/</td>\n",
       "      <td>True</td>\n",
       "      <td>29</td>\n",
       "      <td>4.35000</td>\n",
       "      <td>4.37588</td>\n",
       "      <td>10</td>\n",
       "      <td>16</td>\n",
       "      <td>0</td>\n",
       "      <td>2020-02-13T00:27:59Z</td>\n",
       "      <td>2020-03-21T17:54:34Z</td>\n",
       "      <td>455.0</td>\n",
       "      <td>1280.0</td>\n",
       "    </tr>\n",
       "    <tr>\n",
       "      <th>1549</th>\n",
       "      <td>2265670</td>\n",
       "      <td>Database Management Systems - MySQL</td>\n",
       "      <td>/course/database-management-systems-mysql/</td>\n",
       "      <td>True</td>\n",
       "      <td>14099</td>\n",
       "      <td>4.36364</td>\n",
       "      <td>4.12036</td>\n",
       "      <td>418</td>\n",
       "      <td>6</td>\n",
       "      <td>0</td>\n",
       "      <td>2019-03-11T08:44:37Z</td>\n",
       "      <td>2019-03-14T22:43:00Z</td>\n",
       "      <td>455.0</td>\n",
       "      <td>8640.0</td>\n",
       "    </tr>\n",
       "    <tr>\n",
       "      <th>26749</th>\n",
       "      <td>1161676</td>\n",
       "      <td>How To Get Your First Programming Job No Degre...</td>\n",
       "      <td>/course/how-to-get-first-programming-job-no-de...</td>\n",
       "      <td>True</td>\n",
       "      <td>9245</td>\n",
       "      <td>4.50000</td>\n",
       "      <td>4.57380</td>\n",
       "      <td>63</td>\n",
       "      <td>26</td>\n",
       "      <td>0</td>\n",
       "      <td>2017-03-28T22:14:14Z</td>\n",
       "      <td>2018-01-03T03:40:21Z</td>\n",
       "      <td>455.0</td>\n",
       "      <td>2240.0</td>\n",
       "    </tr>\n",
       "    <tr>\n",
       "      <th>25320</th>\n",
       "      <td>2580574</td>\n",
       "      <td>Intro to Shopify Theme and Store Development w...</td>\n",
       "      <td>/course/master-shopify/</td>\n",
       "      <td>True</td>\n",
       "      <td>763</td>\n",
       "      <td>3.80392</td>\n",
       "      <td>3.81859</td>\n",
       "      <td>179</td>\n",
       "      <td>18</td>\n",
       "      <td>0</td>\n",
       "      <td>2019-09-27T21:54:17Z</td>\n",
       "      <td>2019-11-16T14:23:58Z</td>\n",
       "      <td>455.0</td>\n",
       "      <td>1280.0</td>\n",
       "    </tr>\n",
       "    <tr>\n",
       "      <th>31042</th>\n",
       "      <td>2123100</td>\n",
       "      <td>Navigating the Complexities of Software Licens...</td>\n",
       "      <td>/course/navigating-the-complexities-of-softwar...</td>\n",
       "      <td>True</td>\n",
       "      <td>13</td>\n",
       "      <td>5.00000</td>\n",
       "      <td>5.00000</td>\n",
       "      <td>7</td>\n",
       "      <td>19</td>\n",
       "      <td>0</td>\n",
       "      <td>2019-01-03T00:36:34Z</td>\n",
       "      <td>2020-08-14T19:50:15Z</td>\n",
       "      <td>455.0</td>\n",
       "      <td>2240.0</td>\n",
       "    </tr>\n",
       "    <tr>\n",
       "      <th>...</th>\n",
       "      <td>...</td>\n",
       "      <td>...</td>\n",
       "      <td>...</td>\n",
       "      <td>...</td>\n",
       "      <td>...</td>\n",
       "      <td>...</td>\n",
       "      <td>...</td>\n",
       "      <td>...</td>\n",
       "      <td>...</td>\n",
       "      <td>...</td>\n",
       "      <td>...</td>\n",
       "      <td>...</td>\n",
       "      <td>...</td>\n",
       "      <td>...</td>\n",
       "    </tr>\n",
       "    <tr>\n",
       "      <th>30767</th>\n",
       "      <td>3226201</td>\n",
       "      <td>AWS Certified Security - Specialty Exam 2020</td>\n",
       "      <td>/course/aws-certified-security-specialty-exam-...</td>\n",
       "      <td>True</td>\n",
       "      <td>3583</td>\n",
       "      <td>3.31250</td>\n",
       "      <td>3.68300</td>\n",
       "      <td>8</td>\n",
       "      <td>0</td>\n",
       "      <td>5</td>\n",
       "      <td>2020-06-11T13:31:57Z</td>\n",
       "      <td>2020-06-11T13:51:34Z</td>\n",
       "      <td>455.0</td>\n",
       "      <td>2880.0</td>\n",
       "    </tr>\n",
       "    <tr>\n",
       "      <th>9659</th>\n",
       "      <td>2624956</td>\n",
       "      <td>Java For Kids - A Fun 30 Minutes Course</td>\n",
       "      <td>/course/complete-java-course-beginner-to-advan...</td>\n",
       "      <td>True</td>\n",
       "      <td>3464</td>\n",
       "      <td>2.40000</td>\n",
       "      <td>2.34637</td>\n",
       "      <td>45</td>\n",
       "      <td>5</td>\n",
       "      <td>0</td>\n",
       "      <td>2019-10-25T17:17:43Z</td>\n",
       "      <td>2019-10-26T13:47:59Z</td>\n",
       "      <td>455.0</td>\n",
       "      <td>8320.0</td>\n",
       "    </tr>\n",
       "    <tr>\n",
       "      <th>14947</th>\n",
       "      <td>1655796</td>\n",
       "      <td>12 Technical &amp; Business Writing Power Techniqu...</td>\n",
       "      <td>/course/12-writing-techniques/</td>\n",
       "      <td>True</td>\n",
       "      <td>2233</td>\n",
       "      <td>4.00000</td>\n",
       "      <td>3.97605</td>\n",
       "      <td>28</td>\n",
       "      <td>16</td>\n",
       "      <td>0</td>\n",
       "      <td>2018-04-20T18:39:45Z</td>\n",
       "      <td>2018-04-28T16:28:57Z</td>\n",
       "      <td>3200.0</td>\n",
       "      <td>3200.0</td>\n",
       "    </tr>\n",
       "    <tr>\n",
       "      <th>5329</th>\n",
       "      <td>961508</td>\n",
       "      <td>Learn Spring Security 4 Basics - Hands On</td>\n",
       "      <td>/course/learn-spring-security-4-basics-hands-on/</td>\n",
       "      <td>True</td>\n",
       "      <td>356</td>\n",
       "      <td>3.25000</td>\n",
       "      <td>3.23178</td>\n",
       "      <td>51</td>\n",
       "      <td>16</td>\n",
       "      <td>0</td>\n",
       "      <td>2016-09-18T14:07:35Z</td>\n",
       "      <td>2016-09-19T14:44:43Z</td>\n",
       "      <td>455.0</td>\n",
       "      <td>6080.0</td>\n",
       "    </tr>\n",
       "    <tr>\n",
       "      <th>16996</th>\n",
       "      <td>1303608</td>\n",
       "      <td>Driving Corporate Strategy</td>\n",
       "      <td>/course/driving-corporate-strategy/</td>\n",
       "      <td>True</td>\n",
       "      <td>49</td>\n",
       "      <td>4.40000</td>\n",
       "      <td>4.35025</td>\n",
       "      <td>12</td>\n",
       "      <td>10</td>\n",
       "      <td>0</td>\n",
       "      <td>2017-07-25T10:59:45Z</td>\n",
       "      <td>2017-08-09T00:30:50Z</td>\n",
       "      <td>455.0</td>\n",
       "      <td>3200.0</td>\n",
       "    </tr>\n",
       "  </tbody>\n",
       "</table>\n",
       "<p>3275 rows × 14 columns</p>\n",
       "</div>"
      ],
      "text/plain": [
       "            id                                              title  \\\n",
       "22389  2811181              Guía práctica del Análisis Financiero   \n",
       "1549   2265670                Database Management Systems - MySQL   \n",
       "26749  1161676  How To Get Your First Programming Job No Degre...   \n",
       "25320  2580574  Intro to Shopify Theme and Store Development w...   \n",
       "31042  2123100  Navigating the Complexities of Software Licens...   \n",
       "...        ...                                                ...   \n",
       "30767  3226201       AWS Certified Security - Specialty Exam 2020   \n",
       "9659   2624956            Java For Kids - A Fun 30 Minutes Course   \n",
       "14947  1655796  12 Technical & Business Writing Power Techniqu...   \n",
       "5329    961508          Learn Spring Security 4 Basics - Hands On   \n",
       "16996  1303608                         Driving Corporate Strategy   \n",
       "\n",
       "                                                     url  is_paid  \\\n",
       "22389     /course/guia-practica-del-analisis-financiero/     True   \n",
       "1549          /course/database-management-systems-mysql/     True   \n",
       "26749  /course/how-to-get-first-programming-job-no-de...     True   \n",
       "25320                            /course/master-shopify/     True   \n",
       "31042  /course/navigating-the-complexities-of-softwar...     True   \n",
       "...                                                  ...      ...   \n",
       "30767  /course/aws-certified-security-specialty-exam-...     True   \n",
       "9659   /course/complete-java-course-beginner-to-advan...     True   \n",
       "14947                     /course/12-writing-techniques/     True   \n",
       "5329    /course/learn-spring-security-4-basics-hands-on/     True   \n",
       "16996                /course/driving-corporate-strategy/     True   \n",
       "\n",
       "       num_subscribers  avg_rating   rating  num_reviews  \\\n",
       "22389               29     4.35000  4.37588           10   \n",
       "1549             14099     4.36364  4.12036          418   \n",
       "26749             9245     4.50000  4.57380           63   \n",
       "25320              763     3.80392  3.81859          179   \n",
       "31042               13     5.00000  5.00000            7   \n",
       "...                ...         ...      ...          ...   \n",
       "30767             3583     3.31250  3.68300            8   \n",
       "9659              3464     2.40000  2.34637           45   \n",
       "14947             2233     4.00000  3.97605           28   \n",
       "5329               356     3.25000  3.23178           51   \n",
       "16996               49     4.40000  4.35025           12   \n",
       "\n",
       "       num_published_lectures  num_published_practice_tests  \\\n",
       "22389                      16                             0   \n",
       "1549                        6                             0   \n",
       "26749                      26                             0   \n",
       "25320                      18                             0   \n",
       "31042                      19                             0   \n",
       "...                       ...                           ...   \n",
       "30767                       0                             5   \n",
       "9659                        5                             0   \n",
       "14947                      16                             0   \n",
       "5329                       16                             0   \n",
       "16996                      10                             0   \n",
       "\n",
       "                    created        published_time  discount_price__amount  \\\n",
       "22389  2020-02-13T00:27:59Z  2020-03-21T17:54:34Z                   455.0   \n",
       "1549   2019-03-11T08:44:37Z  2019-03-14T22:43:00Z                   455.0   \n",
       "26749  2017-03-28T22:14:14Z  2018-01-03T03:40:21Z                   455.0   \n",
       "25320  2019-09-27T21:54:17Z  2019-11-16T14:23:58Z                   455.0   \n",
       "31042  2019-01-03T00:36:34Z  2020-08-14T19:50:15Z                   455.0   \n",
       "...                     ...                   ...                     ...   \n",
       "30767  2020-06-11T13:31:57Z  2020-06-11T13:51:34Z                   455.0   \n",
       "9659   2019-10-25T17:17:43Z  2019-10-26T13:47:59Z                   455.0   \n",
       "14947  2018-04-20T18:39:45Z  2018-04-28T16:28:57Z                  3200.0   \n",
       "5329   2016-09-18T14:07:35Z  2016-09-19T14:44:43Z                   455.0   \n",
       "16996  2017-07-25T10:59:45Z  2017-08-09T00:30:50Z                   455.0   \n",
       "\n",
       "       price_detail__amount  \n",
       "22389                1280.0  \n",
       "1549                 8640.0  \n",
       "26749                2240.0  \n",
       "25320                1280.0  \n",
       "31042                2240.0  \n",
       "...                     ...  \n",
       "30767                2880.0  \n",
       "9659                 8320.0  \n",
       "14947                3200.0  \n",
       "5329                 6080.0  \n",
       "16996                3200.0  \n",
       "\n",
       "[3275 rows x 14 columns]"
      ]
     },
     "execution_count": 6,
     "metadata": {},
     "output_type": "execute_result"
    }
   ],
   "source": [
    "#Random sample taken to do the analysis.\n",
    "df_sample = df.sample(frac=0.10, axis=0)\n",
    "df_sample"
   ]
  },
  {
   "cell_type": "markdown",
   "metadata": {},
   "source": [
    "<h3>Preprocessing of Sample</h3>"
   ]
  },
  {
   "cell_type": "code",
   "execution_count": 7,
   "metadata": {},
   "outputs": [
    {
     "data": {
      "text/plain": [
       "False"
      ]
     },
     "execution_count": 7,
     "metadata": {},
     "output_type": "execute_result"
    }
   ],
   "source": [
    "df_sample.isnull().values.any()#No null values present"
   ]
  },
  {
   "cell_type": "code",
   "execution_count": 8,
   "metadata": {},
   "outputs": [],
   "source": [
    "#Duplicates have been removed\n",
    "#Redundant columns are also removed"
   ]
  },
  {
   "cell_type": "code",
   "execution_count": 9,
   "metadata": {},
   "outputs": [],
   "source": [
    "#Determine which columns to use for the model.\n",
    "#4 columns: Y:price_detail__amount X:num_subscribers, num_published_lectures"
   ]
  },
  {
   "cell_type": "code",
   "execution_count": 10,
   "metadata": {},
   "outputs": [],
   "source": [
    "#Preprocessing the sample to remove those courses which are freeas we are prediciting final amount\n",
    "df_sample.drop(df_sample[df_sample['is_paid']==False].index, inplace=True)"
   ]
  },
  {
   "cell_type": "code",
   "execution_count": 11,
   "metadata": {},
   "outputs": [
    {
     "name": "stdout",
     "output_type": "stream",
     "text": [
      "0.16374208887771305\n"
     ]
    }
   ],
   "source": [
    "#Preprocessing: Finding multicollinearity initially to check if the explanatory variables are collinear or not\n",
    "#Initially we find collinearity between num_subscribers and num_reviews.\n",
    "cor = df_sample['num_subscribers'].corr(df_sample['num_published_lectures'])\n",
    "print(cor)#these two are not much correlated"
   ]
  },
  {
   "cell_type": "code",
   "execution_count": 12,
   "metadata": {},
   "outputs": [
    {
     "data": {
      "text/html": [
       "<div>\n",
       "<style scoped>\n",
       "    .dataframe tbody tr th:only-of-type {\n",
       "        vertical-align: middle;\n",
       "    }\n",
       "\n",
       "    .dataframe tbody tr th {\n",
       "        vertical-align: top;\n",
       "    }\n",
       "\n",
       "    .dataframe thead th {\n",
       "        text-align: right;\n",
       "    }\n",
       "</style>\n",
       "<table border=\"1\" class=\"dataframe\">\n",
       "  <thead>\n",
       "    <tr style=\"text-align: right;\">\n",
       "      <th></th>\n",
       "      <th>id</th>\n",
       "      <th>title</th>\n",
       "      <th>url</th>\n",
       "      <th>is_paid</th>\n",
       "      <th>num_subscribers</th>\n",
       "      <th>avg_rating</th>\n",
       "      <th>rating</th>\n",
       "      <th>num_reviews</th>\n",
       "      <th>num_published_lectures</th>\n",
       "      <th>num_published_practice_tests</th>\n",
       "      <th>created</th>\n",
       "      <th>published_time</th>\n",
       "      <th>discount_price__amount</th>\n",
       "      <th>price_detail__amount</th>\n",
       "    </tr>\n",
       "  </thead>\n",
       "  <tbody>\n",
       "    <tr>\n",
       "      <th>22389</th>\n",
       "      <td>2811181</td>\n",
       "      <td>Guía práctica del Análisis Financiero</td>\n",
       "      <td>/course/guia-practica-del-analisis-financiero/</td>\n",
       "      <td>True</td>\n",
       "      <td>29</td>\n",
       "      <td>4.35000</td>\n",
       "      <td>4.37588</td>\n",
       "      <td>10</td>\n",
       "      <td>16</td>\n",
       "      <td>0</td>\n",
       "      <td>2020-02-13T00:27:59Z</td>\n",
       "      <td>2020-03-21T17:54:34Z</td>\n",
       "      <td>455.0</td>\n",
       "      <td>1280.0</td>\n",
       "    </tr>\n",
       "    <tr>\n",
       "      <th>1549</th>\n",
       "      <td>2265670</td>\n",
       "      <td>Database Management Systems - MySQL</td>\n",
       "      <td>/course/database-management-systems-mysql/</td>\n",
       "      <td>True</td>\n",
       "      <td>14099</td>\n",
       "      <td>4.36364</td>\n",
       "      <td>4.12036</td>\n",
       "      <td>418</td>\n",
       "      <td>6</td>\n",
       "      <td>0</td>\n",
       "      <td>2019-03-11T08:44:37Z</td>\n",
       "      <td>2019-03-14T22:43:00Z</td>\n",
       "      <td>455.0</td>\n",
       "      <td>8640.0</td>\n",
       "    </tr>\n",
       "    <tr>\n",
       "      <th>26749</th>\n",
       "      <td>1161676</td>\n",
       "      <td>How To Get Your First Programming Job No Degre...</td>\n",
       "      <td>/course/how-to-get-first-programming-job-no-de...</td>\n",
       "      <td>True</td>\n",
       "      <td>9245</td>\n",
       "      <td>4.50000</td>\n",
       "      <td>4.57380</td>\n",
       "      <td>63</td>\n",
       "      <td>26</td>\n",
       "      <td>0</td>\n",
       "      <td>2017-03-28T22:14:14Z</td>\n",
       "      <td>2018-01-03T03:40:21Z</td>\n",
       "      <td>455.0</td>\n",
       "      <td>2240.0</td>\n",
       "    </tr>\n",
       "    <tr>\n",
       "      <th>25320</th>\n",
       "      <td>2580574</td>\n",
       "      <td>Intro to Shopify Theme and Store Development w...</td>\n",
       "      <td>/course/master-shopify/</td>\n",
       "      <td>True</td>\n",
       "      <td>763</td>\n",
       "      <td>3.80392</td>\n",
       "      <td>3.81859</td>\n",
       "      <td>179</td>\n",
       "      <td>18</td>\n",
       "      <td>0</td>\n",
       "      <td>2019-09-27T21:54:17Z</td>\n",
       "      <td>2019-11-16T14:23:58Z</td>\n",
       "      <td>455.0</td>\n",
       "      <td>1280.0</td>\n",
       "    </tr>\n",
       "    <tr>\n",
       "      <th>31042</th>\n",
       "      <td>2123100</td>\n",
       "      <td>Navigating the Complexities of Software Licens...</td>\n",
       "      <td>/course/navigating-the-complexities-of-softwar...</td>\n",
       "      <td>True</td>\n",
       "      <td>13</td>\n",
       "      <td>5.00000</td>\n",
       "      <td>5.00000</td>\n",
       "      <td>7</td>\n",
       "      <td>19</td>\n",
       "      <td>0</td>\n",
       "      <td>2019-01-03T00:36:34Z</td>\n",
       "      <td>2020-08-14T19:50:15Z</td>\n",
       "      <td>455.0</td>\n",
       "      <td>2240.0</td>\n",
       "    </tr>\n",
       "    <tr>\n",
       "      <th>...</th>\n",
       "      <td>...</td>\n",
       "      <td>...</td>\n",
       "      <td>...</td>\n",
       "      <td>...</td>\n",
       "      <td>...</td>\n",
       "      <td>...</td>\n",
       "      <td>...</td>\n",
       "      <td>...</td>\n",
       "      <td>...</td>\n",
       "      <td>...</td>\n",
       "      <td>...</td>\n",
       "      <td>...</td>\n",
       "      <td>...</td>\n",
       "      <td>...</td>\n",
       "    </tr>\n",
       "    <tr>\n",
       "      <th>30767</th>\n",
       "      <td>3226201</td>\n",
       "      <td>AWS Certified Security - Specialty Exam 2020</td>\n",
       "      <td>/course/aws-certified-security-specialty-exam-...</td>\n",
       "      <td>True</td>\n",
       "      <td>3583</td>\n",
       "      <td>3.31250</td>\n",
       "      <td>3.68300</td>\n",
       "      <td>8</td>\n",
       "      <td>0</td>\n",
       "      <td>5</td>\n",
       "      <td>2020-06-11T13:31:57Z</td>\n",
       "      <td>2020-06-11T13:51:34Z</td>\n",
       "      <td>455.0</td>\n",
       "      <td>2880.0</td>\n",
       "    </tr>\n",
       "    <tr>\n",
       "      <th>9659</th>\n",
       "      <td>2624956</td>\n",
       "      <td>Java For Kids - A Fun 30 Minutes Course</td>\n",
       "      <td>/course/complete-java-course-beginner-to-advan...</td>\n",
       "      <td>True</td>\n",
       "      <td>3464</td>\n",
       "      <td>2.40000</td>\n",
       "      <td>2.34637</td>\n",
       "      <td>45</td>\n",
       "      <td>5</td>\n",
       "      <td>0</td>\n",
       "      <td>2019-10-25T17:17:43Z</td>\n",
       "      <td>2019-10-26T13:47:59Z</td>\n",
       "      <td>455.0</td>\n",
       "      <td>8320.0</td>\n",
       "    </tr>\n",
       "    <tr>\n",
       "      <th>14947</th>\n",
       "      <td>1655796</td>\n",
       "      <td>12 Technical &amp; Business Writing Power Techniqu...</td>\n",
       "      <td>/course/12-writing-techniques/</td>\n",
       "      <td>True</td>\n",
       "      <td>2233</td>\n",
       "      <td>4.00000</td>\n",
       "      <td>3.97605</td>\n",
       "      <td>28</td>\n",
       "      <td>16</td>\n",
       "      <td>0</td>\n",
       "      <td>2018-04-20T18:39:45Z</td>\n",
       "      <td>2018-04-28T16:28:57Z</td>\n",
       "      <td>3200.0</td>\n",
       "      <td>3200.0</td>\n",
       "    </tr>\n",
       "    <tr>\n",
       "      <th>5329</th>\n",
       "      <td>961508</td>\n",
       "      <td>Learn Spring Security 4 Basics - Hands On</td>\n",
       "      <td>/course/learn-spring-security-4-basics-hands-on/</td>\n",
       "      <td>True</td>\n",
       "      <td>356</td>\n",
       "      <td>3.25000</td>\n",
       "      <td>3.23178</td>\n",
       "      <td>51</td>\n",
       "      <td>16</td>\n",
       "      <td>0</td>\n",
       "      <td>2016-09-18T14:07:35Z</td>\n",
       "      <td>2016-09-19T14:44:43Z</td>\n",
       "      <td>455.0</td>\n",
       "      <td>6080.0</td>\n",
       "    </tr>\n",
       "    <tr>\n",
       "      <th>16996</th>\n",
       "      <td>1303608</td>\n",
       "      <td>Driving Corporate Strategy</td>\n",
       "      <td>/course/driving-corporate-strategy/</td>\n",
       "      <td>True</td>\n",
       "      <td>49</td>\n",
       "      <td>4.40000</td>\n",
       "      <td>4.35025</td>\n",
       "      <td>12</td>\n",
       "      <td>10</td>\n",
       "      <td>0</td>\n",
       "      <td>2017-07-25T10:59:45Z</td>\n",
       "      <td>2017-08-09T00:30:50Z</td>\n",
       "      <td>455.0</td>\n",
       "      <td>3200.0</td>\n",
       "    </tr>\n",
       "  </tbody>\n",
       "</table>\n",
       "<p>3228 rows × 14 columns</p>\n",
       "</div>"
      ],
      "text/plain": [
       "            id                                              title  \\\n",
       "22389  2811181              Guía práctica del Análisis Financiero   \n",
       "1549   2265670                Database Management Systems - MySQL   \n",
       "26749  1161676  How To Get Your First Programming Job No Degre...   \n",
       "25320  2580574  Intro to Shopify Theme and Store Development w...   \n",
       "31042  2123100  Navigating the Complexities of Software Licens...   \n",
       "...        ...                                                ...   \n",
       "30767  3226201       AWS Certified Security - Specialty Exam 2020   \n",
       "9659   2624956            Java For Kids - A Fun 30 Minutes Course   \n",
       "14947  1655796  12 Technical & Business Writing Power Techniqu...   \n",
       "5329    961508          Learn Spring Security 4 Basics - Hands On   \n",
       "16996  1303608                         Driving Corporate Strategy   \n",
       "\n",
       "                                                     url  is_paid  \\\n",
       "22389     /course/guia-practica-del-analisis-financiero/     True   \n",
       "1549          /course/database-management-systems-mysql/     True   \n",
       "26749  /course/how-to-get-first-programming-job-no-de...     True   \n",
       "25320                            /course/master-shopify/     True   \n",
       "31042  /course/navigating-the-complexities-of-softwar...     True   \n",
       "...                                                  ...      ...   \n",
       "30767  /course/aws-certified-security-specialty-exam-...     True   \n",
       "9659   /course/complete-java-course-beginner-to-advan...     True   \n",
       "14947                     /course/12-writing-techniques/     True   \n",
       "5329    /course/learn-spring-security-4-basics-hands-on/     True   \n",
       "16996                /course/driving-corporate-strategy/     True   \n",
       "\n",
       "       num_subscribers  avg_rating   rating  num_reviews  \\\n",
       "22389               29     4.35000  4.37588           10   \n",
       "1549             14099     4.36364  4.12036          418   \n",
       "26749             9245     4.50000  4.57380           63   \n",
       "25320              763     3.80392  3.81859          179   \n",
       "31042               13     5.00000  5.00000            7   \n",
       "...                ...         ...      ...          ...   \n",
       "30767             3583     3.31250  3.68300            8   \n",
       "9659              3464     2.40000  2.34637           45   \n",
       "14947             2233     4.00000  3.97605           28   \n",
       "5329               356     3.25000  3.23178           51   \n",
       "16996               49     4.40000  4.35025           12   \n",
       "\n",
       "       num_published_lectures  num_published_practice_tests  \\\n",
       "22389                      16                             0   \n",
       "1549                        6                             0   \n",
       "26749                      26                             0   \n",
       "25320                      18                             0   \n",
       "31042                      19                             0   \n",
       "...                       ...                           ...   \n",
       "30767                       0                             5   \n",
       "9659                        5                             0   \n",
       "14947                      16                             0   \n",
       "5329                       16                             0   \n",
       "16996                      10                             0   \n",
       "\n",
       "                    created        published_time  discount_price__amount  \\\n",
       "22389  2020-02-13T00:27:59Z  2020-03-21T17:54:34Z                   455.0   \n",
       "1549   2019-03-11T08:44:37Z  2019-03-14T22:43:00Z                   455.0   \n",
       "26749  2017-03-28T22:14:14Z  2018-01-03T03:40:21Z                   455.0   \n",
       "25320  2019-09-27T21:54:17Z  2019-11-16T14:23:58Z                   455.0   \n",
       "31042  2019-01-03T00:36:34Z  2020-08-14T19:50:15Z                   455.0   \n",
       "...                     ...                   ...                     ...   \n",
       "30767  2020-06-11T13:31:57Z  2020-06-11T13:51:34Z                   455.0   \n",
       "9659   2019-10-25T17:17:43Z  2019-10-26T13:47:59Z                   455.0   \n",
       "14947  2018-04-20T18:39:45Z  2018-04-28T16:28:57Z                  3200.0   \n",
       "5329   2016-09-18T14:07:35Z  2016-09-19T14:44:43Z                   455.0   \n",
       "16996  2017-07-25T10:59:45Z  2017-08-09T00:30:50Z                   455.0   \n",
       "\n",
       "       price_detail__amount  \n",
       "22389                1280.0  \n",
       "1549                 8640.0  \n",
       "26749                2240.0  \n",
       "25320                1280.0  \n",
       "31042                2240.0  \n",
       "...                     ...  \n",
       "30767                2880.0  \n",
       "9659                 8320.0  \n",
       "14947                3200.0  \n",
       "5329                 6080.0  \n",
       "16996                3200.0  \n",
       "\n",
       "[3228 rows x 14 columns]"
      ]
     },
     "execution_count": 12,
     "metadata": {},
     "output_type": "execute_result"
    }
   ],
   "source": [
    "df_sample"
   ]
  },
  {
   "cell_type": "markdown",
   "metadata": {},
   "source": [
    "<h3>Descriptive Analysis pertaining to model</h3>"
   ]
  },
  {
   "cell_type": "code",
   "execution_count": 13,
   "metadata": {},
   "outputs": [],
   "source": [
    "#import packages\n",
    "import seaborn as sns"
   ]
  },
  {
   "cell_type": "code",
   "execution_count": 14,
   "metadata": {},
   "outputs": [
    {
     "data": {
      "image/png": "[encoded data removed]",
      "text/plain": [
       "<Figure size 432x288 with 1 Axes>"
      ]
     },
     "metadata": {},
     "output_type": "display_data"
    }
   ],
   "source": [
    "#Box plot for each column considered to anlayse summary statistic and outliers.\n",
    "#1. num_subscribers:\n",
    "sns.set(style='whitegrid')\n",
    "box_plot = sns.boxplot(x=df_sample['num_subscribers'])"
   ]
  },
  {
   "cell_type": "code",
   "execution_count": 15,
   "metadata": {},
   "outputs": [
    {
     "data": {
      "image/png": "[encoded data removed]",
      "text/plain": [
       "<Figure size 432x288 with 1 Axes>"
      ]
     },
     "metadata": {},
     "output_type": "display_data"
    }
   ],
   "source": [
    "#2. num_published_lectures\n",
    "sns.set(style='whitegrid')\n",
    "box_plot = sns.boxplot(x=df_sample['num_published_lectures'])"
   ]
  },
  {
   "cell_type": "code",
   "execution_count": 16,
   "metadata": {},
   "outputs": [
    {
     "data": {
      "image/png": "[encoded data removed]",
      "text/plain": [
       "<Figure size 432x288 with 1 Axes>"
      ]
     },
     "metadata": {},
     "output_type": "display_data"
    }
   ],
   "source": [
    "#3. price_detail__amount \n",
    "sns.set(style='whitegrid')\n",
    "box_plot = sns.boxplot(x=df_sample['price_detail__amount'])"
   ]
  },
  {
   "cell_type": "code",
   "execution_count": 17,
   "metadata": {},
   "outputs": [],
   "source": [
    "#Both the explanatory variables has outliers but let us check how does it work out in model\n",
    "#Let's take scatter plots to analyse their distribution and identify the functional form"
   ]
  },
  {
   "cell_type": "code",
   "execution_count": 18,
   "metadata": {},
   "outputs": [
    {
     "data": {
      "text/plain": [
       "<matplotlib.axes._subplots.AxesSubplot at 0x26595d3c518>"
      ]
     },
     "execution_count": 18,
     "metadata": {},
     "output_type": "execute_result"
    },
    {
     "data": {
      "image/png": "[encoded data removed]",
      "text/plain": [
       "<Figure size 432x288 with 1 Axes>"
      ]
     },
     "metadata": {},
     "output_type": "display_data"
    }
   ],
   "source": [
    "#1. Scatter Plot Between num_subscriber's and price_detail__amount\n",
    "sns.scatterplot(data=df_sample, x='num_subscribers', y='price_detail__amount')"
   ]
  },
  {
   "cell_type": "code",
   "execution_count": 19,
   "metadata": {},
   "outputs": [
    {
     "data": {
      "text/plain": [
       "<matplotlib.axes._subplots.AxesSubplot at 0x26595d95320>"
      ]
     },
     "execution_count": 19,
     "metadata": {},
     "output_type": "execute_result"
    },
    {
     "data": {
      "image/png": "[encoded data removed]",
      "text/plain": [
       "<Figure size 432x288 with 1 Axes>"
      ]
     },
     "metadata": {},
     "output_type": "display_data"
    }
   ],
   "source": [
    "sns.scatterplot(data=df_sample, x='num_published_lectures', y='price_detail__amount')"
   ]
  },
  {
   "cell_type": "markdown",
   "metadata": {},
   "source": [
    "<h3>Training and Testing Data</h3>"
   ]
  },
  {
   "cell_type": "code",
   "execution_count": 20,
   "metadata": {},
   "outputs": [],
   "source": [
    "from sklearn.model_selection import train_test_split"
   ]
  },
  {
   "cell_type": "code",
   "execution_count": 21,
   "metadata": {},
   "outputs": [
    {
     "name": "stdout",
     "output_type": "stream",
     "text": [
      "       num_subscribers  num_published_lectures\n",
      "22389               29                      16\n",
      "1549             14099                       6\n",
      "26749             9245                      26\n",
      "25320              763                      18\n",
      "31042               13                      19\n",
      "...                ...                     ...\n",
      "30767             3583                       0\n",
      "9659              3464                       5\n",
      "14947             2233                      16\n",
      "5329               356                      16\n",
      "16996               49                      10\n",
      "\n",
      "[3228 rows x 2 columns] 22389    1280.0\n",
      "1549     8640.0\n",
      "26749    2240.0\n",
      "25320    1280.0\n",
      "31042    2240.0\n",
      "          ...  \n",
      "30767    2880.0\n",
      "9659     8320.0\n",
      "14947    3200.0\n",
      "5329     6080.0\n",
      "16996    3200.0\n",
      "Name: price_detail__amount, Length: 3228, dtype: float64\n"
     ]
    }
   ],
   "source": [
    "#Determining the dependent and independent variables for multi linear regression.\n",
    "model_df = df_sample[['num_subscribers','num_published_lectures']]\n",
    "target = df_sample['price_detail__amount']\n",
    "print(model_df, target)"
   ]
  },
  {
   "cell_type": "code",
   "execution_count": 22,
   "metadata": {},
   "outputs": [
    {
     "name": "stdout",
     "output_type": "stream",
     "text": [
      "(2582, 2) (2582,)\n",
      "(646, 2) (646,)\n"
     ]
    }
   ],
   "source": [
    "#Test and train Split.\n",
    "X_train, X_test, y_train, y_test = train_test_split(model_df, target, test_size=0.2)\n",
    "print(X_train.shape, y_train.shape)#Training set\n",
    "print(X_test.shape, y_test.shape)#Validation ot test set(here)"
   ]
  },
  {
   "cell_type": "markdown",
   "metadata": {},
   "source": [
    "<h3>Functional Form</h3>"
   ]
  },
  {
   "cell_type": "code",
   "execution_count": 23,
   "metadata": {},
   "outputs": [],
   "source": [
    "#Initially we start with the simplest functional form.\n",
    "#price = beta(0)*subscribers + beta(1)*published_lectures + error"
   ]
  },
  {
   "cell_type": "markdown",
   "metadata": {},
   "source": [
    "<h3>Estimate regression paarameters</h3>"
   ]
  },
  {
   "cell_type": "code",
   "execution_count": 24,
   "metadata": {},
   "outputs": [],
   "source": [
    "#We perform multiple regression using sklearn\n",
    "from sklearn import linear_model"
   ]
  },
  {
   "cell_type": "code",
   "execution_count": 25,
   "metadata": {},
   "outputs": [
    {
     "name": "stdout",
     "output_type": "stream",
     "text": [
      "[7.51825906e-03 1.37655512e+01]\n",
      "4072.3305654124906\n"
     ]
    }
   ],
   "source": [
    "#we first formulate the model and train on training data.\n",
    "MLR_model = linear_model.LinearRegression()\n",
    "MLR_model.fit(X_train, y_train)\n",
    "print(MLR_model.coef_)\n",
    "print(MLR_model.intercept_)"
   ]
  },
  {
   "cell_type": "code",
   "execution_count": 26,
   "metadata": {},
   "outputs": [
    {
     "name": "stdout",
     "output_type": "stream",
     "text": [
      "(646,)\n",
      "(646,)\n"
     ]
    }
   ],
   "source": [
    "#Now we try to test on test data\n",
    "predictions = MLR_model.predict(X_test)\n",
    "print(predictions.shape)\n",
    "print(y_test.shape)"
   ]
  },
  {
   "cell_type": "code",
   "execution_count": 27,
   "metadata": {},
   "outputs": [
    {
     "name": "stdout",
     "output_type": "stream",
     "text": [
      "0.08046956720963261\n"
     ]
    }
   ],
   "source": [
    "#Metrics:\n",
    "print(MLR_model.score(X_test, y_test))"
   ]
  },
  {
   "cell_type": "markdown",
   "metadata": {},
   "source": [
    "<h3> Another method of doing regression </h3>"
   ]
  },
  {
   "cell_type": "code",
   "execution_count": 28,
   "metadata": {},
   "outputs": [],
   "source": [
    "#import packages\n",
    "import statsmodels.api as sm"
   ]
  },
  {
   "cell_type": "code",
   "execution_count": 29,
   "metadata": {},
   "outputs": [],
   "source": [
    "#MLR model in Stats method.\n",
    "MLR_model2 = sm.OLS(y_train, X_train).fit()\n",
    "predictions = MLR_model2.predict(X_test)"
   ]
  },
  {
   "cell_type": "code",
   "execution_count": 30,
   "metadata": {},
   "outputs": [
    {
     "data": {
      "text/html": [
       "<table class=\"simpletable\">\n",
       "<caption>OLS Regression Results</caption>\n",
       "<tr>\n",
       "  <th>Dep. Variable:</th>    <td>price_detail__amount</td> <th>  R-squared (uncentered):</th>      <td>   0.390</td> \n",
       "</tr>\n",
       "<tr>\n",
       "  <th>Model:</th>                     <td>OLS</td>         <th>  Adj. R-squared (uncentered):</th> <td>   0.390</td> \n",
       "</tr>\n",
       "<tr>\n",
       "  <th>Method:</th>               <td>Least Squares</td>    <th>  F-statistic:       </th>          <td>   825.2</td> \n",
       "</tr>\n",
       "<tr>\n",
       "  <th>Date:</th>               <td>Sun, 29 Nov 2020</td>   <th>  Prob (F-statistic):</th>          <td>9.26e-278</td>\n",
       "</tr>\n",
       "<tr>\n",
       "  <th>Time:</th>                   <td>07:56:30</td>       <th>  Log-Likelihood:    </th>          <td> -25343.</td> \n",
       "</tr>\n",
       "<tr>\n",
       "  <th>No. Observations:</th>        <td>  2582</td>        <th>  AIC:               </th>          <td>5.069e+04</td>\n",
       "</tr>\n",
       "<tr>\n",
       "  <th>Df Residuals:</th>            <td>  2580</td>        <th>  BIC:               </th>          <td>5.070e+04</td>\n",
       "</tr>\n",
       "<tr>\n",
       "  <th>Df Model:</th>                <td>     2</td>        <th>                     </th>              <td> </td>    \n",
       "</tr>\n",
       "<tr>\n",
       "  <th>Covariance Type:</th>        <td>nonrobust</td>      <th>                     </th>              <td> </td>    \n",
       "</tr>\n",
       "</table>\n",
       "<table class=\"simpletable\">\n",
       "<tr>\n",
       "             <td></td>               <th>coef</th>     <th>std err</th>      <th>t</th>      <th>P>|t|</th>  <th>[0.025</th>    <th>0.975]</th>  \n",
       "</tr>\n",
       "<tr>\n",
       "  <th>num_subscribers</th>        <td>    0.0149</td> <td>    0.003</td> <td>    4.260</td> <td> 0.000</td> <td>    0.008</td> <td>    0.022</td>\n",
       "</tr>\n",
       "<tr>\n",
       "  <th>num_published_lectures</th> <td>   46.3583</td> <td>    1.220</td> <td>   37.989</td> <td> 0.000</td> <td>   43.965</td> <td>   48.751</td>\n",
       "</tr>\n",
       "</table>\n",
       "<table class=\"simpletable\">\n",
       "<tr>\n",
       "  <th>Omnibus:</th>       <td>543.505</td> <th>  Durbin-Watson:     </th> <td>   1.348</td>\n",
       "</tr>\n",
       "<tr>\n",
       "  <th>Prob(Omnibus):</th> <td> 0.000</td>  <th>  Jarque-Bera (JB):  </th> <td>2292.592</td>\n",
       "</tr>\n",
       "<tr>\n",
       "  <th>Skew:</th>          <td>-0.964</td>  <th>  Prob(JB):          </th> <td>    0.00</td>\n",
       "</tr>\n",
       "<tr>\n",
       "  <th>Kurtosis:</th>      <td> 7.194</td>  <th>  Cond. No.          </th> <td>    361.</td>\n",
       "</tr>\n",
       "</table><br/><br/>Notes:<br/>[1] R² is computed without centering (uncentered) since the model does not contain a constant.<br/>[2] Standard Errors assume that the covariance matrix of the errors is correctly specified."
      ],
      "text/plain": [
       "<class 'statsmodels.iolib.summary.Summary'>\n",
       "\"\"\"\n",
       "                                  OLS Regression Results                                 \n",
       "=========================================================================================\n",
       "Dep. Variable:     price_detail__amount   R-squared (uncentered):                   0.390\n",
       "Model:                              OLS   Adj. R-squared (uncentered):              0.390\n",
       "Method:                   Least Squares   F-statistic:                              825.2\n",
       "Date:                  Sun, 29 Nov 2020   Prob (F-statistic):                   9.26e-278\n",
       "Time:                          07:56:30   Log-Likelihood:                         -25343.\n",
       "No. Observations:                  2582   AIC:                                  5.069e+04\n",
       "Df Residuals:                      2580   BIC:                                  5.070e+04\n",
       "Df Model:                             2                                                  \n",
       "Covariance Type:              nonrobust                                                  \n",
       "==========================================================================================\n",
       "                             coef    std err          t      P>|t|      [0.025      0.975]\n",
       "------------------------------------------------------------------------------------------\n",
       "num_subscribers            0.0149      0.003      4.260      0.000       0.008       0.022\n",
       "num_published_lectures    46.3583      1.220     37.989      0.000      43.965      48.751\n",
       "==============================================================================\n",
       "Omnibus:                      543.505   Durbin-Watson:                   1.348\n",
       "Prob(Omnibus):                  0.000   Jarque-Bera (JB):             2292.592\n",
       "Skew:                          -0.964   Prob(JB):                         0.00\n",
       "Kurtosis:                       7.194   Cond. No.                         361.\n",
       "==============================================================================\n",
       "\n",
       "Notes:\n",
       "[1] R² is computed without centering (uncentered) since the model does not contain a constant.\n",
       "[2] Standard Errors assume that the covariance matrix of the errors is correctly specified.\n",
       "\"\"\""
      ]
     },
     "execution_count": 30,
     "metadata": {},
     "output_type": "execute_result"
    }
   ],
   "source": [
    "#Summary of the model.\n",
    "MLR_model2.summary()"
   ]
  }
 ],
 "metadata": {
  "kernelspec": {
   "display_name": "Python 3",
   "language": "python",
   "name": "python3"
  },
  "language_info": {
   "codemirror_mode": {
    "name": "ipython",
    "version": 3
   },
   "file_extension": ".py",
   "mimetype": "text/x-python",
   "name": "python",
   "nbconvert_exporter": "python",
   "pygments_lexer": "ipython3",
   "version": "3.6.8"
  }
 },
 "nbformat": 4,
 "nbformat_minor": 4
}
