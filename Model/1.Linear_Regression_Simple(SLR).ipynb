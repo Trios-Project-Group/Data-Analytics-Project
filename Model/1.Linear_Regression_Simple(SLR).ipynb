{
 "cells": [
  {
   "cell_type": "markdown",
   "metadata": {},
   "source": [
    "# Simple Linear Regression To model association relationship between No.of.ratings and subscriber_count of courses"
   ]
  },
  {
   "cell_type": "markdown",
   "metadata": {},
   "source": [
    "<b> * Aim : To investigate on how does the subscriber count vary with total_ratings for a course </b>\n",
    "\n",
    "<b> Both the features stand out as the Key Performance Indicators for a MOOC course </b> \n",
    "\n",
    "<b> subscriber_count = B0   +   B1 x number_of_ratings + E </b>"
   ]
  },
  {
   "cell_type": "code",
   "execution_count": 1,
   "metadata": {},
   "outputs": [],
   "source": [
    "#Importing Required Modules for processing of data\n",
    "import numpy as np\n",
    "import pandas as pd\n",
    "import matplotlib.pyplot as plt\n",
    "import seaborn as sns\n",
    "import warnings\n",
    "import plotly.graph_objects as go\n",
    "import statsmodels.api as sm\n",
    "import plotly.express as px\n",
    "from scipy import stats\n",
    "warnings.filterwarnings('ignore')"
   ]
  },
  {
   "cell_type": "markdown",
   "metadata": {},
   "source": [
    "<b>Reading Input Data For Model Construction</b>"
   ]
  },
  {
   "cell_type": "code",
   "execution_count": 2,
   "metadata": {},
   "outputs": [],
   "source": [
    "dataframe = pd.read_csv('../Dataset/Development_IT.csv')"
   ]
  },
  {
   "cell_type": "code",
   "execution_count": 3,
   "metadata": {},
   "outputs": [
    {
     "data": {
      "text/plain": [
       "(32751, 2)"
      ]
     },
     "execution_count": 3,
     "metadata": {},
     "output_type": "execute_result"
    }
   ],
   "source": [
    "#Extracting Only Numerical Features\n",
    "data_numeric = dataframe[['num_subscribers','avg_rating','num_reviews','num_published_lectures','rating','num_published_practice_tests','discount_price__amount','price_detail__amount']]\n",
    "\n",
    "#We extract the Columns under observation i.e num_subscribers , num_reviews\n",
    "data_reg = data_numeric[['num_subscribers','num_reviews']]\n",
    "\n",
    "data_reg.shape"
   ]
  },
  {
   "cell_type": "markdown",
   "metadata": {},
   "source": [
    "<b>Pre-processing of data before fitting the model and outlier removal </b>"
   ]
  },
  {
   "cell_type": "code",
   "execution_count": 4,
   "metadata": {},
   "outputs": [
    {
     "name": "stdout",
     "output_type": "stream",
     "text": [
      "(1000, 2)\n"
     ]
    }
   ],
   "source": [
    "#Since there exist multiple courses with same num_reviews but different num_subscribers , we decide to groupby the num_reviews\n",
    "#and then consider the median as the central measure\n",
    "\n",
    "\n",
    "#Suppose we have 5 courses with num_reviews as 100 , but their subscriber_counts are different eg : 1000, 1250, 4000,6000,9000\n",
    "#then we choose the key,value pair as <100,4000> where 4000 is the median and isn't sensitive to outlier\n",
    "\n",
    "\n",
    "data_reg = data_reg.groupby('num_reviews')['num_subscribers'].mean().to_frame().reset_index().sample(1000)\n",
    "\n",
    "print(data_reg.shape)\n",
    "\n",
    "data_reg = data_reg[(np.abs(stats.zscore(data_reg)) < 3).all(axis=1)].sample(200) #randomly sample 500 data points"
   ]
  },
  {
   "cell_type": "code",
   "execution_count": 5,
   "metadata": {},
   "outputs": [
    {
     "data": {
      "text/plain": [
       "<matplotlib.axes._subplots.AxesSubplot at 0x10e112af670>"
      ]
     },
     "execution_count": 5,
     "metadata": {},
     "output_type": "execute_result"
    },
    {
     "data": {
      "image/png": "[encoded data removed]",
      "text/plain": [
       "<Figure size 432x288 with 2 Axes>"
      ]
     },
     "metadata": {
      "needs_background": "light"
     },
     "output_type": "display_data"
    }
   ],
   "source": [
    "sns.heatmap(data_reg.corr(),annot=True,cmap='coolwarm')"
   ]
  },
  {
   "cell_type": "markdown",
   "metadata": {},
   "source": [
    "A correlation plot between  the interaction variable (response and predictor)"
   ]
  },
  {
   "cell_type": "code",
   "execution_count": 6,
   "metadata": {},
   "outputs": [
    {
     "data": {
      "text/plain": [
       "Index(['num_reviews', 'num_subscribers'], dtype='object')"
      ]
     },
     "execution_count": 6,
     "metadata": {},
     "output_type": "execute_result"
    }
   ],
   "source": [
    "data_reg.columns"
   ]
  },
  {
   "cell_type": "code",
   "execution_count": 7,
   "metadata": {},
   "outputs": [
    {
     "name": "stdout",
     "output_type": "stream",
     "text": [
      "Coefficients: \n",
      " [4.75510937]\n"
     ]
    }
   ],
   "source": [
    "from sklearn.model_selection import train_test_split\n",
    "\n",
    "from sklearn.linear_model import LinearRegression\n",
    "\n",
    "dependent = data_reg['num_subscribers'] #Target aka Response\n",
    "\n",
    "independent = data_reg['num_reviews'].values.reshape(-1,1) #predictor\n",
    "\n",
    "X_train, X_test, y_train, y_test = train_test_split(independent, dependent , test_size=0.3 )\n",
    "\n",
    "lm = LinearRegression() #Model to fit\n",
    "\n",
    "lm.fit(X_train , y_train) #Model is fit and hyperparameters are fixed\n",
    "\n",
    "print('Coefficients: \\n', lm.coef_)"
   ]
  },
  {
   "cell_type": "markdown",
   "metadata": {},
   "source": [
    "<b>We shall test the model by using predict() method </b>\n",
    "\n",
    "<b>The test phase result is shown on the lm plot </b>"
   ]
  },
  {
   "cell_type": "code",
   "execution_count": 8,
   "metadata": {},
   "outputs": [],
   "source": [
    "predictions = lm.predict(X_test)"
   ]
  },
  {
   "cell_type": "code",
   "execution_count": 1,
   "metadata": {},
   "outputs": [
    {
     "ename": "NameError",
     "evalue": "name 'go' is not defined",
     "output_type": "error",
     "traceback": [
      "\u001b[1;31m---------------------------------------------------------------------------\u001b[0m",
      "\u001b[1;31mNameError\u001b[0m                                 Traceback (most recent call last)",
      "\u001b[1;32m<ipython-input-1-fbe337006306>\u001b[0m in \u001b[0;36m<module>\u001b[1;34m\u001b[0m\n\u001b[1;32m----> 1\u001b[1;33m fig = go.Figure([\n\u001b[0m\u001b[0;32m      2\u001b[0m     \u001b[0mgo\u001b[0m\u001b[1;33m.\u001b[0m\u001b[0mScatter\u001b[0m\u001b[1;33m(\u001b[0m\u001b[0mx\u001b[0m\u001b[1;33m=\u001b[0m\u001b[0mX_test\u001b[0m\u001b[1;33m.\u001b[0m\u001b[0msqueeze\u001b[0m\u001b[1;33m(\u001b[0m\u001b[1;33m)\u001b[0m\u001b[1;33m,\u001b[0m \u001b[0my\u001b[0m\u001b[1;33m=\u001b[0m\u001b[0my_test\u001b[0m\u001b[1;33m,\u001b[0m \u001b[0mname\u001b[0m\u001b[1;33m=\u001b[0m\u001b[1;34m'test'\u001b[0m\u001b[1;33m,\u001b[0m \u001b[0mmode\u001b[0m\u001b[1;33m=\u001b[0m\u001b[1;34m'markers'\u001b[0m\u001b[1;33m)\u001b[0m\u001b[1;33m,\u001b[0m\u001b[1;33m\u001b[0m\u001b[1;33m\u001b[0m\u001b[0m\n\u001b[0;32m      3\u001b[0m     \u001b[1;31m#go.Scatter(x=X_test.squeeze(), y=y_test, name='test', mode='markers'),\u001b[0m\u001b[1;33m\u001b[0m\u001b[1;33m\u001b[0m\u001b[1;33m\u001b[0m\u001b[0m\n\u001b[0;32m      4\u001b[0m     \u001b[0mgo\u001b[0m\u001b[1;33m.\u001b[0m\u001b[0mScatter\u001b[0m\u001b[1;33m(\u001b[0m\u001b[0mx\u001b[0m\u001b[1;33m=\u001b[0m\u001b[0mX_test\u001b[0m\u001b[1;33m.\u001b[0m\u001b[0msqueeze\u001b[0m\u001b[1;33m(\u001b[0m\u001b[1;33m)\u001b[0m\u001b[1;33m,\u001b[0m \u001b[0my\u001b[0m\u001b[1;33m=\u001b[0m\u001b[0mlm\u001b[0m\u001b[1;33m.\u001b[0m\u001b[0mpredict\u001b[0m\u001b[1;33m(\u001b[0m\u001b[0mX_test\u001b[0m\u001b[1;33m)\u001b[0m\u001b[1;33m,\u001b[0m \u001b[0mname\u001b[0m\u001b[1;33m=\u001b[0m\u001b[1;34m'prediction'\u001b[0m\u001b[1;33m)\u001b[0m\u001b[1;33m\u001b[0m\u001b[1;33m\u001b[0m\u001b[0m\n\u001b[0;32m      5\u001b[0m ])\n",
      "\u001b[1;31mNameError\u001b[0m: name 'go' is not defined"
     ]
    }
   ],
   "source": [
    "fig = go.Figure([\n",
    "    go.Scatter(x=X_test.squeeze(), y=y_test, name='test', mode='markers'),\n",
    "    #go.Scatter(x=X_test.squeeze(), y=y_test, name='test', mode='markers'),\n",
    "    go.Scatter(x=X_test.squeeze(), y=lm.predict(X_test), name='prediction')\n",
    "])\n",
    "fig.show()"
   ]
  },
  {
   "cell_type": "code",
   "execution_count": 10,
   "metadata": {},
   "outputs": [],
   "source": [
    "#Residual checks , the residual is to be normally distributed and here below we have a nearly uniform distribution , \n",
    "#but not sufficently normal"
   ]
  },
  {
   "cell_type": "code",
   "execution_count": 11,
   "metadata": {},
   "outputs": [
    {
     "data": {
      "text/plain": [
       "<matplotlib.axes._subplots.AxesSubplot at 0x10e1274d400>"
      ]
     },
     "execution_count": 11,
     "metadata": {},
     "output_type": "execute_result"
    },
    {
     "data": {
      "image/png": "[encoded data removed]",
      "text/plain": [
       "<Figure size 504x504 with 1 Axes>"
      ]
     },
     "metadata": {
      "needs_background": "light"
     },
     "output_type": "display_data"
    }
   ],
   "source": [
    "plt.figure(figsize=(7,7))\n",
    "sns.distplot((y_test-predictions),bins=40) #residuals distribution \n",
    "\n",
    "\n"
   ]
  },
  {
   "cell_type": "code",
   "execution_count": 12,
   "metadata": {},
   "outputs": [
    {
     "data": {
      "text/plain": [
       "((array([-2.27390067, -1.91302992, -1.70135682, -1.54640086, -1.42160977,\n",
       "         -1.31571014, -1.2228056 , -1.13940346, -1.06325419, -0.99281837,\n",
       "         -0.92699283, -0.86495764, -0.80608503, -0.74988229, -0.69595441,\n",
       "         -0.64397882, -0.5936878 , -0.54485575, -0.49729007, -0.45082415,\n",
       "         -0.40531215, -0.36062492, -0.31664678, -0.27327293, -0.23040741,\n",
       "         -0.18796131, -0.14585132, -0.10399849, -0.06232713, -0.02076376,\n",
       "          0.02076376,  0.06232713,  0.10399849,  0.14585132,  0.18796131,\n",
       "          0.23040741,  0.27327293,  0.31664678,  0.36062492,  0.40531215,\n",
       "          0.45082415,  0.49729007,  0.54485575,  0.5936878 ,  0.64397882,\n",
       "          0.69595441,  0.74988229,  0.80608503,  0.86495764,  0.92699283,\n",
       "          0.99281837,  1.06325419,  1.13940346,  1.2228056 ,  1.31571014,\n",
       "          1.42160977,  1.54640086,  1.70135682,  1.91302992,  2.27390067]),\n",
       "  array([-62179.42497425, -16136.13139545, -12771.80228814, -12299.32643729,\n",
       "         -11317.76061154,  -8506.2697913 ,  -8086.47021746,  -6867.55793992,\n",
       "          -6694.91268555,  -6325.71259541,  -5756.44044718,  -5587.64912929,\n",
       "          -5498.19232595,  -5462.88899456,  -5413.30401411,  -5333.24945819,\n",
       "          -5092.58781689,  -4385.04487224,  -4370.21958355,  -4164.68246618,\n",
       "          -4019.95461441,  -3604.80674063,  -3386.20265865,  -2932.09662274,\n",
       "          -2645.87504121,  -2595.12565218,  -2509.14872602,  -2267.48687443,\n",
       "          -2016.37415982,  -1720.13354917,  -1361.90584248,  -1010.61633353,\n",
       "           -873.0424665 ,   -702.74309362,   -541.54849371,   -329.83416627,\n",
       "           -169.67368326,    140.90856384,    996.74304027,   1064.75628508,\n",
       "           1364.02399033,   2056.48482821,   2103.27699491,   2630.15901359,\n",
       "           2810.12308259,   3158.68897482,   3567.21678231,   3950.70977124,\n",
       "           6020.38880521,   6097.34182805,   6882.28666375,   7319.38992794,\n",
       "           8166.86372942,  12755.13498658,  19824.86978836,  23671.71618655,\n",
       "          29952.59145389,  32085.67634261,  38425.49680461,  63227.23004069])),\n",
       " (13413.488086907202, 722.2646853630241, 0.8518010927669939))"
      ]
     },
     "execution_count": 12,
     "metadata": {},
     "output_type": "execute_result"
    },
    {
     "data": {
      "image/png": "[encoded data removed]",
      "text/plain": [
       "<Figure size 432x288 with 1 Axes>"
      ]
     },
     "metadata": {
      "needs_background": "light"
     },
     "output_type": "display_data"
    }
   ],
   "source": [
    "fig = stats.probplot(x=y_test-predictions,dist='norm',plot=plt)\n",
    "fig"
   ]
  },
  {
   "cell_type": "markdown",
   "metadata": {},
   "source": [
    "<b>PP plot indicates that the distribution of erros is not completely a normal distribution !\n",
    "But , considering the domain of work , we really cannot neglect the tail values , because they represent the realistic data and they aren't an avoidable feature.\n",
    "</b>"
   ]
  },
  {
   "cell_type": "code",
   "execution_count": 13,
   "metadata": {},
   "outputs": [
    {
     "data": {
      "text/html": [
       "<div>\n",
       "<style scoped>\n",
       "    .dataframe tbody tr th:only-of-type {\n",
       "        vertical-align: middle;\n",
       "    }\n",
       "\n",
       "    .dataframe tbody tr th {\n",
       "        vertical-align: top;\n",
       "    }\n",
       "\n",
       "    .dataframe thead th {\n",
       "        text-align: right;\n",
       "    }\n",
       "</style>\n",
       "<table border=\"1\" class=\"dataframe\">\n",
       "  <thead>\n",
       "    <tr style=\"text-align: right;\">\n",
       "      <th></th>\n",
       "      <th>Coeffecient</th>\n",
       "    </tr>\n",
       "  </thead>\n",
       "  <tbody>\n",
       "    <tr>\n",
       "      <th>Num of Reviews</th>\n",
       "      <td>4.755109</td>\n",
       "    </tr>\n",
       "  </tbody>\n",
       "</table>\n",
       "</div>"
      ],
      "text/plain": [
       "                Coeffecient\n",
       "Num of Reviews     4.755109"
      ]
     },
     "execution_count": 13,
     "metadata": {},
     "output_type": "execute_result"
    }
   ],
   "source": [
    "coeffecients = pd.DataFrame(lm.coef_,['Num of Reviews'])\n",
    "coeffecients.columns = ['Coeffecient']\n",
    "coeffecients"
   ]
  },
  {
   "cell_type": "markdown",
   "metadata": {},
   "source": [
    "<b> The co-efficent B1 is now equal to the value 4.755 above </b> \n",
    "<b> Which implies that the subscriber_count increases by the rate of 4.755 times for a single unit increase in num_reviews </b>  "
   ]
  },
  {
   "cell_type": "code",
   "execution_count": 14,
   "metadata": {},
   "outputs": [
    {
     "data": {
      "text/plain": [
       "Text(0.5, 1.0, 'Regression plot')"
      ]
     },
     "execution_count": 14,
     "metadata": {},
     "output_type": "execute_result"
    },
    {
     "data": {
      "text/plain": [
       "<Figure size 720x720 with 0 Axes>"
      ]
     },
     "metadata": {},
     "output_type": "display_data"
    },
    {
     "data": {
      "image/png": "[encoded data removed]",
      "text/plain": [
       "<Figure size 360x360 with 1 Axes>"
      ]
     },
     "metadata": {
      "needs_background": "light"
     },
     "output_type": "display_data"
    }
   ],
   "source": [
    "plt.figure(figsize=(10,10))\n",
    "sns.lmplot('num_reviews','num_subscribers',data_reg)\n",
    "plt.title('Regression plot')"
   ]
  },
  {
   "cell_type": "code",
   "execution_count": 15,
   "metadata": {},
   "outputs": [],
   "source": [
    "#OVERALL SUMMARY CAN BE OBSERVED AND OBTAINED BY PERFROMING OLS using stats.api package"
   ]
  },
  {
   "cell_type": "code",
   "execution_count": 16,
   "metadata": {},
   "outputs": [
    {
     "name": "stdout",
     "output_type": "stream",
     "text": [
      "                            OLS Regression Results                            \n",
      "==============================================================================\n",
      "Dep. Variable:        num_subscribers   R-squared:                       0.807\n",
      "Model:                            OLS   Adj. R-squared:                  0.806\n",
      "Method:                 Least Squares   F-statistic:                     828.3\n",
      "Date:                Sun, 29 Nov 2020   Prob (F-statistic):           1.13e-72\n",
      "Time:                        11:21:52   Log-Likelihood:                -2176.2\n",
      "No. Observations:                 200   AIC:                             4356.\n",
      "Df Residuals:                     198   BIC:                             4363.\n",
      "Df Model:                           1                                         \n",
      "Covariance Type:            nonrobust                                         \n",
      "==============================================================================\n",
      "                 coef    std err          t      P>|t|      [0.025      0.975]\n",
      "------------------------------------------------------------------------------\n",
      "const       6632.6520   1060.313      6.255      0.000    4541.696    8723.608\n",
      "x1             4.4144      0.153     28.780      0.000       4.112       4.717\n",
      "==============================================================================\n",
      "Omnibus:                      127.807   Durbin-Watson:                   2.067\n",
      "Prob(Omnibus):                  0.000   Jarque-Bera (JB):             1199.906\n",
      "Skew:                           2.307   Prob(JB):                    2.78e-261\n",
      "Kurtosis:                      14.077   Cond. No.                     8.02e+03\n",
      "==============================================================================\n",
      "\n",
      "Warnings:\n",
      "[1] Standard Errors assume that the covariance matrix of the errors is correctly specified.\n",
      "[2] The condition number is large, 8.02e+03. This might indicate that there are\n",
      "strong multicollinearity or other numerical problems.\n"
     ]
    }
   ],
   "source": [
    "independent = sm.add_constant(independent)\n",
    "\n",
    "model = sm.OLS(dependent,independent)\n",
    "\n",
    "Reg_model = model.fit()\n",
    "\n",
    "print(Reg_model.summary())"
   ]
  },
  {
   "cell_type": "markdown",
   "metadata": {},
   "source": [
    "<b> Above we have the evaluation parameters computed for the above model </b>\n",
    "\n",
    "<b>Above value of R-square implied that 80.7% of the variation in num_subscribers is explained by the num_reviews feature</b>"
   ]
  },
  {
   "cell_type": "code",
   "execution_count": null,
   "metadata": {},
   "outputs": [],
   "source": []
  }
 ],
 "metadata": {
  "kernelspec": {
   "display_name": "Python 3",
   "language": "python",
   "name": "python3"
  },
  "language_info": {
   "codemirror_mode": {
    "name": "ipython",
    "version": 3
   },
   "file_extension": ".py",
   "mimetype": "text/x-python",
   "name": "python",
   "nbconvert_exporter": "python",
   "pygments_lexer": "ipython3",
   "version": "3.8.3"
  }
 },
 "nbformat": 4,
 "nbformat_minor": 4
}
